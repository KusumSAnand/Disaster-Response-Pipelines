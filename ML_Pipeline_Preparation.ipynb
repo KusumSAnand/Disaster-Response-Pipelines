{
 "cells": [
  {
   "cell_type": "markdown",
   "metadata": {},
   "source": [
    "# ML Pipeline Preparation\n",
    "Follow the instructions below to help you create your ML pipeline.\n",
    "### 1. Import libraries and load data from database.\n",
    "- Import Python libraries\n",
    "- Load dataset from database with [`read_sql_table`](https://pandas.pydata.org/pandas-docs/stable/generated/pandas.read_sql_table.html)\n",
    "- Define feature and target variables X and Y"
   ]
  },
  {
   "cell_type": "code",
   "execution_count": 7,
   "metadata": {
    "collapsed": false
   },
   "outputs": [
    {
     "name": "stdout",
     "output_type": "stream",
     "text": [
      "[nltk_data] Downloading package punkt to /root/nltk_data...\n",
      "[nltk_data]   Package punkt is already up-to-date!\n",
      "[nltk_data] Downloading package wordnet to /root/nltk_data...\n",
      "[nltk_data]   Package wordnet is already up-to-date!\n",
      "[nltk_data] Downloading package stopwords to /root/nltk_data...\n",
      "[nltk_data]   Package stopwords is already up-to-date!\n",
      "[nltk_data] Downloading package averaged_perceptron_tagger to\n",
      "[nltk_data]     /root/nltk_data...\n",
      "[nltk_data]   Package averaged_perceptron_tagger is already up-to-\n",
      "[nltk_data]       date!\n"
     ]
    }
   ],
   "source": [
    "# import libraries\n",
    "import nltk\n",
    "nltk.download(['punkt', 'wordnet','stopwords','averaged_perceptron_tagger'])\n",
    "\n",
    "class style:\n",
    "    BOLD = '\\033[1m'\n",
    "    END = '\\033[0m'\n",
    "    \n",
    "import pandas as pd\n",
    "import numpy as np\n",
    "import re\n",
    "from sqlalchemy import create_engine\n",
    "from nltk.tokenize import word_tokenize\n",
    "from nltk.stem import WordNetLemmatizer\n",
    "from nltk.corpus import stopwords\n",
    "\n",
    "from nltk.stem.porter import PorterStemmer\n",
    "from nltk.stem.wordnet import WordNetLemmatizer\n",
    "import string\n",
    "from sklearn.multioutput import MultiOutputClassifier\n",
    "from sklearn.model_selection import train_test_split,GridSearchCV\n",
    "from sklearn.ensemble import RandomForestClassifier,AdaBoostClassifier\n",
    "from sklearn.svm import SVC\n",
    "from sklearn.pipeline import Pipeline,FeatureUnion\n",
    "\n",
    "from sklearn.feature_extraction.text import TfidfTransformer,CountVectorizer\n",
    "from sklearn.metrics import accuracy_score, precision_score, recall_score, f1_score,make_scorer,classification_report,fbeta_score\n",
    "\n",
    "from sklearn.base import BaseEstimator, TransformerMixin\n",
    "import pickle"
   ]
  },
  {
   "cell_type": "code",
   "execution_count": 8,
   "metadata": {
    "collapsed": false,
    "scrolled": true
   },
   "outputs": [
    {
     "data": {
      "text/html": [
       "<div>\n",
       "<style scoped>\n",
       "    .dataframe tbody tr th:only-of-type {\n",
       "        vertical-align: middle;\n",
       "    }\n",
       "\n",
       "    .dataframe tbody tr th {\n",
       "        vertical-align: top;\n",
       "    }\n",
       "\n",
       "    .dataframe thead th {\n",
       "        text-align: right;\n",
       "    }\n",
       "</style>\n",
       "<table border=\"1\" class=\"dataframe\">\n",
       "  <thead>\n",
       "    <tr style=\"text-align: right;\">\n",
       "      <th></th>\n",
       "      <th>id</th>\n",
       "      <th>message</th>\n",
       "      <th>original</th>\n",
       "      <th>genre</th>\n",
       "      <th>related</th>\n",
       "      <th>request</th>\n",
       "      <th>offer</th>\n",
       "      <th>aid_related</th>\n",
       "      <th>medical_help</th>\n",
       "      <th>medical_products</th>\n",
       "      <th>...</th>\n",
       "      <th>aid_centers</th>\n",
       "      <th>other_infrastructure</th>\n",
       "      <th>weather_related</th>\n",
       "      <th>floods</th>\n",
       "      <th>storm</th>\n",
       "      <th>fire</th>\n",
       "      <th>earthquake</th>\n",
       "      <th>cold</th>\n",
       "      <th>other_weather</th>\n",
       "      <th>direct_report</th>\n",
       "    </tr>\n",
       "  </thead>\n",
       "  <tbody>\n",
       "    <tr>\n",
       "      <th>0</th>\n",
       "      <td>2</td>\n",
       "      <td>Weather update - a cold front from Cuba that c...</td>\n",
       "      <td>Un front froid se retrouve sur Cuba ce matin. ...</td>\n",
       "      <td>direct</td>\n",
       "      <td>1</td>\n",
       "      <td>0</td>\n",
       "      <td>0</td>\n",
       "      <td>0</td>\n",
       "      <td>0</td>\n",
       "      <td>0</td>\n",
       "      <td>...</td>\n",
       "      <td>0</td>\n",
       "      <td>0</td>\n",
       "      <td>0</td>\n",
       "      <td>0</td>\n",
       "      <td>0</td>\n",
       "      <td>0</td>\n",
       "      <td>0</td>\n",
       "      <td>0</td>\n",
       "      <td>0</td>\n",
       "      <td>0</td>\n",
       "    </tr>\n",
       "    <tr>\n",
       "      <th>1</th>\n",
       "      <td>7</td>\n",
       "      <td>Is the Hurricane over or is it not over</td>\n",
       "      <td>Cyclone nan fini osinon li pa fini</td>\n",
       "      <td>direct</td>\n",
       "      <td>1</td>\n",
       "      <td>0</td>\n",
       "      <td>0</td>\n",
       "      <td>1</td>\n",
       "      <td>0</td>\n",
       "      <td>0</td>\n",
       "      <td>...</td>\n",
       "      <td>0</td>\n",
       "      <td>0</td>\n",
       "      <td>1</td>\n",
       "      <td>0</td>\n",
       "      <td>1</td>\n",
       "      <td>0</td>\n",
       "      <td>0</td>\n",
       "      <td>0</td>\n",
       "      <td>0</td>\n",
       "      <td>0</td>\n",
       "    </tr>\n",
       "    <tr>\n",
       "      <th>2</th>\n",
       "      <td>8</td>\n",
       "      <td>Looking for someone but no name</td>\n",
       "      <td>Patnm, di Maryani relem pou li banm nouvel li ...</td>\n",
       "      <td>direct</td>\n",
       "      <td>1</td>\n",
       "      <td>0</td>\n",
       "      <td>0</td>\n",
       "      <td>0</td>\n",
       "      <td>0</td>\n",
       "      <td>0</td>\n",
       "      <td>...</td>\n",
       "      <td>0</td>\n",
       "      <td>0</td>\n",
       "      <td>0</td>\n",
       "      <td>0</td>\n",
       "      <td>0</td>\n",
       "      <td>0</td>\n",
       "      <td>0</td>\n",
       "      <td>0</td>\n",
       "      <td>0</td>\n",
       "      <td>0</td>\n",
       "    </tr>\n",
       "    <tr>\n",
       "      <th>3</th>\n",
       "      <td>9</td>\n",
       "      <td>UN reports Leogane 80-90 destroyed. Only Hospi...</td>\n",
       "      <td>UN reports Leogane 80-90 destroyed. Only Hospi...</td>\n",
       "      <td>direct</td>\n",
       "      <td>1</td>\n",
       "      <td>1</td>\n",
       "      <td>0</td>\n",
       "      <td>1</td>\n",
       "      <td>0</td>\n",
       "      <td>1</td>\n",
       "      <td>...</td>\n",
       "      <td>0</td>\n",
       "      <td>0</td>\n",
       "      <td>0</td>\n",
       "      <td>0</td>\n",
       "      <td>0</td>\n",
       "      <td>0</td>\n",
       "      <td>0</td>\n",
       "      <td>0</td>\n",
       "      <td>0</td>\n",
       "      <td>0</td>\n",
       "    </tr>\n",
       "    <tr>\n",
       "      <th>4</th>\n",
       "      <td>12</td>\n",
       "      <td>says: west side of Haiti, rest of the country ...</td>\n",
       "      <td>facade ouest d Haiti et le reste du pays aujou...</td>\n",
       "      <td>direct</td>\n",
       "      <td>1</td>\n",
       "      <td>0</td>\n",
       "      <td>0</td>\n",
       "      <td>0</td>\n",
       "      <td>0</td>\n",
       "      <td>0</td>\n",
       "      <td>...</td>\n",
       "      <td>0</td>\n",
       "      <td>0</td>\n",
       "      <td>0</td>\n",
       "      <td>0</td>\n",
       "      <td>0</td>\n",
       "      <td>0</td>\n",
       "      <td>0</td>\n",
       "      <td>0</td>\n",
       "      <td>0</td>\n",
       "      <td>0</td>\n",
       "    </tr>\n",
       "  </tbody>\n",
       "</table>\n",
       "<p>5 rows × 40 columns</p>\n",
       "</div>"
      ],
      "text/plain": [
       "   id                                            message  \\\n",
       "0   2  Weather update - a cold front from Cuba that c...   \n",
       "1   7            Is the Hurricane over or is it not over   \n",
       "2   8                    Looking for someone but no name   \n",
       "3   9  UN reports Leogane 80-90 destroyed. Only Hospi...   \n",
       "4  12  says: west side of Haiti, rest of the country ...   \n",
       "\n",
       "                                            original   genre  related  \\\n",
       "0  Un front froid se retrouve sur Cuba ce matin. ...  direct        1   \n",
       "1                 Cyclone nan fini osinon li pa fini  direct        1   \n",
       "2  Patnm, di Maryani relem pou li banm nouvel li ...  direct        1   \n",
       "3  UN reports Leogane 80-90 destroyed. Only Hospi...  direct        1   \n",
       "4  facade ouest d Haiti et le reste du pays aujou...  direct        1   \n",
       "\n",
       "   request  offer  aid_related  medical_help  medical_products      ...        \\\n",
       "0        0      0            0             0                 0      ...         \n",
       "1        0      0            1             0                 0      ...         \n",
       "2        0      0            0             0                 0      ...         \n",
       "3        1      0            1             0                 1      ...         \n",
       "4        0      0            0             0                 0      ...         \n",
       "\n",
       "   aid_centers  other_infrastructure  weather_related  floods  storm  fire  \\\n",
       "0            0                     0                0       0      0     0   \n",
       "1            0                     0                1       0      1     0   \n",
       "2            0                     0                0       0      0     0   \n",
       "3            0                     0                0       0      0     0   \n",
       "4            0                     0                0       0      0     0   \n",
       "\n",
       "   earthquake  cold  other_weather  direct_report  \n",
       "0           0     0              0              0  \n",
       "1           0     0              0              0  \n",
       "2           0     0              0              0  \n",
       "3           0     0              0              0  \n",
       "4           0     0              0              0  \n",
       "\n",
       "[5 rows x 40 columns]"
      ]
     },
     "execution_count": 8,
     "metadata": {},
     "output_type": "execute_result"
    }
   ],
   "source": [
    "# load data from database\n",
    "engine = create_engine('sqlite:///InsertDatabaseName.db')\n",
    "df = pd.read_sql_table('InsertTableName', engine)\n",
    "X =  df.message\n",
    "y = (df[df.columns[4:]])\n",
    "df.head()"
   ]
  },
  {
   "cell_type": "code",
   "execution_count": 4,
   "metadata": {
    "collapsed": false
   },
   "outputs": [
    {
     "data": {
      "text/html": [
       "<div>\n",
       "<style scoped>\n",
       "    .dataframe tbody tr th:only-of-type {\n",
       "        vertical-align: middle;\n",
       "    }\n",
       "\n",
       "    .dataframe tbody tr th {\n",
       "        vertical-align: top;\n",
       "    }\n",
       "\n",
       "    .dataframe thead th {\n",
       "        text-align: right;\n",
       "    }\n",
       "</style>\n",
       "<table border=\"1\" class=\"dataframe\">\n",
       "  <thead>\n",
       "    <tr style=\"text-align: right;\">\n",
       "      <th></th>\n",
       "      <th>related</th>\n",
       "      <th>request</th>\n",
       "      <th>offer</th>\n",
       "      <th>aid_related</th>\n",
       "      <th>medical_help</th>\n",
       "      <th>medical_products</th>\n",
       "      <th>search_and_rescue</th>\n",
       "      <th>security</th>\n",
       "      <th>military</th>\n",
       "      <th>child_alone</th>\n",
       "      <th>...</th>\n",
       "      <th>aid_centers</th>\n",
       "      <th>other_infrastructure</th>\n",
       "      <th>weather_related</th>\n",
       "      <th>floods</th>\n",
       "      <th>storm</th>\n",
       "      <th>fire</th>\n",
       "      <th>earthquake</th>\n",
       "      <th>cold</th>\n",
       "      <th>other_weather</th>\n",
       "      <th>direct_report</th>\n",
       "    </tr>\n",
       "  </thead>\n",
       "  <tbody>\n",
       "    <tr>\n",
       "      <th>0</th>\n",
       "      <td>1</td>\n",
       "      <td>0</td>\n",
       "      <td>0</td>\n",
       "      <td>0</td>\n",
       "      <td>0</td>\n",
       "      <td>0</td>\n",
       "      <td>0</td>\n",
       "      <td>0</td>\n",
       "      <td>0</td>\n",
       "      <td>0</td>\n",
       "      <td>...</td>\n",
       "      <td>0</td>\n",
       "      <td>0</td>\n",
       "      <td>0</td>\n",
       "      <td>0</td>\n",
       "      <td>0</td>\n",
       "      <td>0</td>\n",
       "      <td>0</td>\n",
       "      <td>0</td>\n",
       "      <td>0</td>\n",
       "      <td>0</td>\n",
       "    </tr>\n",
       "    <tr>\n",
       "      <th>1</th>\n",
       "      <td>1</td>\n",
       "      <td>0</td>\n",
       "      <td>0</td>\n",
       "      <td>1</td>\n",
       "      <td>0</td>\n",
       "      <td>0</td>\n",
       "      <td>0</td>\n",
       "      <td>0</td>\n",
       "      <td>0</td>\n",
       "      <td>0</td>\n",
       "      <td>...</td>\n",
       "      <td>0</td>\n",
       "      <td>0</td>\n",
       "      <td>1</td>\n",
       "      <td>0</td>\n",
       "      <td>1</td>\n",
       "      <td>0</td>\n",
       "      <td>0</td>\n",
       "      <td>0</td>\n",
       "      <td>0</td>\n",
       "      <td>0</td>\n",
       "    </tr>\n",
       "  </tbody>\n",
       "</table>\n",
       "<p>2 rows × 36 columns</p>\n",
       "</div>"
      ],
      "text/plain": [
       "   related  request  offer  aid_related  medical_help  medical_products  \\\n",
       "0        1        0      0            0             0                 0   \n",
       "1        1        0      0            1             0                 0   \n",
       "\n",
       "   search_and_rescue  security  military  child_alone      ...        \\\n",
       "0                  0         0         0            0      ...         \n",
       "1                  0         0         0            0      ...         \n",
       "\n",
       "   aid_centers  other_infrastructure  weather_related  floods  storm  fire  \\\n",
       "0            0                     0                0       0      0     0   \n",
       "1            0                     0                1       0      1     0   \n",
       "\n",
       "   earthquake  cold  other_weather  direct_report  \n",
       "0           0     0              0              0  \n",
       "1           0     0              0              0  \n",
       "\n",
       "[2 rows x 36 columns]"
      ]
     },
     "execution_count": 4,
     "metadata": {},
     "output_type": "execute_result"
    }
   ],
   "source": [
    "df[df.columns[4:]].head(2)"
   ]
  },
  {
   "cell_type": "code",
   "execution_count": 26,
   "metadata": {
    "collapsed": false
   },
   "outputs": [
    {
     "data": {
      "text/plain": [
       "array(['direct', 'social', 'news'], dtype=object)"
      ]
     },
     "execution_count": 26,
     "metadata": {},
     "output_type": "execute_result"
    }
   ],
   "source": [
    "df.genre.unique()"
   ]
  },
  {
   "cell_type": "code",
   "execution_count": 4,
   "metadata": {
    "collapsed": false
   },
   "outputs": [
    {
     "data": {
      "text/plain": [
       "(36, Index(['related', 'request', 'offer', 'aid_related', 'medical_help',\n",
       "        'medical_products', 'search_and_rescue', 'security', 'military',\n",
       "        'child_alone', 'water', 'food', 'shelter', 'clothing', 'money',\n",
       "        'missing_people', 'refugees', 'death', 'other_aid',\n",
       "        'infrastructure_related', 'transport', 'buildings', 'electricity',\n",
       "        'tools', 'hospitals', 'shops', 'aid_centers', 'other_infrastructure',\n",
       "        'weather_related', 'floods', 'storm', 'fire', 'earthquake', 'cold',\n",
       "        'other_weather', 'direct_report'],\n",
       "       dtype='object'))"
      ]
     },
     "execution_count": 4,
     "metadata": {},
     "output_type": "execute_result"
    }
   ],
   "source": [
    "len(df.columns[4:]),df.columns[4:]"
   ]
  },
  {
   "cell_type": "code",
   "execution_count": 5,
   "metadata": {
    "collapsed": false
   },
   "outputs": [
    {
     "data": {
      "text/plain": [
       "0    Weather update - a cold front from Cuba that c...\n",
       "1              Is the Hurricane over or is it not over\n",
       "2                      Looking for someone but no name\n",
       "3    UN reports Leogane 80-90 destroyed. Only Hospi...\n",
       "4    says: west side of Haiti, rest of the country ...\n",
       "Name: message, dtype: object"
      ]
     },
     "execution_count": 5,
     "metadata": {},
     "output_type": "execute_result"
    }
   ],
   "source": [
    "X[:5]"
   ]
  },
  {
   "cell_type": "markdown",
   "metadata": {},
   "source": [
    "### 2. Write a tokenization function to process your text data"
   ]
  },
  {
   "cell_type": "code",
   "execution_count": 3,
   "metadata": {
    "collapsed": true
   },
   "outputs": [],
   "source": [
    "def tokenize(text):\n",
    "    '''\n",
    "    Normalize,tokenize,apply stemming and lemmatization to text data.\n",
    "    \n",
    "    Args: text(str) containing message that needs to be tokenized.\n",
    "    \n",
    "    Returns : processed word tokens-normalized,tokenized,lemmatized and stemmed\n",
    "    '''\n",
    "    #message = text.translate(str.maketrans('','',string.punctuation)).lower() #normalize\n",
    "    message=re.sub(r\"[^a-zA-Z0-9]\",\" \",text)\n",
    "    words = word_tokenize(message) # tokenize\n",
    "    words = [w for w in words if w not in stopwords.words('english')] #apply stopwords\n",
    "    lemmed = [WordNetLemmatizer().lemmatize(w, pos='v') for w in words] #lemmatize\n",
    "    stemmed = [PorterStemmer().stem(w).lower().strip() for w in lemmed] # stem\n",
    "\n",
    "    return stemmed"
   ]
  },
  {
   "cell_type": "code",
   "execution_count": 10,
   "metadata": {
    "collapsed": false
   },
   "outputs": [
    {
     "data": {
      "text/plain": [
       "'Weather update - a cold front from Cuba that could pass over Haiti'"
      ]
     },
     "execution_count": 10,
     "metadata": {},
     "output_type": "execute_result"
    }
   ],
   "source": [
    "pd.set_option('display.max_colwidth', -1)\n",
    "msg=df[df.id==2]['message']\n",
    "msg[0]"
   ]
  },
  {
   "cell_type": "code",
   "execution_count": 5,
   "metadata": {
    "collapsed": false
   },
   "outputs": [
    {
     "data": {
      "text/plain": [
       "['weather', 'updat', 'cold', 'front', 'cuba', 'could', 'pass', 'haiti']"
      ]
     },
     "execution_count": 5,
     "metadata": {},
     "output_type": "execute_result"
    }
   ],
   "source": [
    "tokenize(msg[0])"
   ]
  },
  {
   "cell_type": "markdown",
   "metadata": {},
   "source": [
    "### 3. Build a machine learning pipeline\n",
    "This machine pipeline should take in the `message` column as input and output classification results on the other 36 categories in the dataset. You may find the [MultiOutputClassifier](http://scikit-learn.org/stable/modules/generated/sklearn.multioutput.MultiOutputClassifier.html) helpful for predicting multiple target variables."
   ]
  },
  {
   "cell_type": "code",
   "execution_count": 5,
   "metadata": {
    "collapsed": false
   },
   "outputs": [
    {
     "data": {
      "text/plain": [
       "Pipeline(memory=None,\n",
       "     steps=[('vect', CountVectorizer(analyzer='word', binary=False, decode_error='strict',\n",
       "        dtype=<class 'numpy.int64'>, encoding='utf-8', input='content',\n",
       "        lowercase=True, max_df=1.0, max_features=None, min_df=1,\n",
       "        ngram_range=(1, 1), preprocessor=None, stop_words=None,\n",
       "        strip...1,\n",
       "            oob_score=False, random_state=1, verbose=0, warm_start=False),\n",
       "           n_jobs=1))])"
      ]
     },
     "execution_count": 5,
     "metadata": {},
     "output_type": "execute_result"
    }
   ],
   "source": [
    "pipeline = Pipeline([\n",
    "    ('vect', CountVectorizer(tokenizer=tokenize)),\n",
    "    ('tfidf', TfidfTransformer()),\n",
    "    ('clf', MultiOutputClassifier(RandomForestClassifier(random_state=1))),\n",
    "])\n",
    "pipeline"
   ]
  },
  {
   "cell_type": "markdown",
   "metadata": {},
   "source": [
    "### 4. Train pipeline\n",
    "- Split data into train and test sets\n",
    "- Train pipeline"
   ]
  },
  {
   "cell_type": "code",
   "execution_count": 6,
   "metadata": {
    "collapsed": true
   },
   "outputs": [],
   "source": [
    "#Create train and test data\n",
    "X_train,X_test,y_train,y_test = train_test_split(X,y,random_state=1)\n",
    "\n",
    "# train classifier\n",
    "pipeline.fit(X_train,y_train)\n",
    "\n",
    "# evaluate all steps on train data\n",
    "predicted_tr = pipeline.predict(X_train)"
   ]
  },
  {
   "cell_type": "markdown",
   "metadata": {},
   "source": [
    "**Apply the classification_report to get the precision,recall and f1-score on the train data**"
   ]
  },
  {
   "cell_type": "code",
   "execution_count": 7,
   "metadata": {
    "collapsed": false
   },
   "outputs": [
    {
     "name": "stdout",
     "output_type": "stream",
     "text": [
      "\u001b[1mFeature : related\n",
      "\u001b[0m              precision    recall  f1-score   support\n",
      "\n",
      "          0       0.99      0.97      0.98      4572\n",
      "          1       0.99      1.00      0.99     14955\n",
      "          2       0.99      0.90      0.94       135\n",
      "\n",
      "avg / total       0.99      0.99      0.99     19662\n",
      "\n",
      "\n",
      "\u001b[1mFeature : request\n",
      "\u001b[0m              precision    recall  f1-score   support\n",
      "\n",
      "          0       0.98      1.00      0.99     16327\n",
      "          1       1.00      0.92      0.96      3335\n",
      "\n",
      "avg / total       0.99      0.99      0.99     19662\n",
      "\n",
      "\n",
      "\u001b[1mFeature : offer\n",
      "\u001b[0m              precision    recall  f1-score   support\n",
      "\n",
      "          0       1.00      1.00      1.00     19570\n",
      "          1       1.00      0.72      0.84        92\n",
      "\n",
      "avg / total       1.00      1.00      1.00     19662\n",
      "\n",
      "\n",
      "\u001b[1mFeature : aid_related\n",
      "\u001b[0m              precision    recall  f1-score   support\n",
      "\n",
      "          0       0.98      1.00      0.99     11541\n",
      "          1       0.99      0.97      0.98      8121\n",
      "\n",
      "avg / total       0.98      0.98      0.98     19662\n",
      "\n",
      "\n",
      "\u001b[1mFeature : medical_help\n",
      "\u001b[0m              precision    recall  f1-score   support\n",
      "\n",
      "          0       0.99      1.00      0.99     18131\n",
      "          1       1.00      0.85      0.92      1531\n",
      "\n",
      "avg / total       0.99      0.99      0.99     19662\n",
      "\n",
      "\n",
      "\u001b[1mFeature : medical_products\n",
      "\u001b[0m              precision    recall  f1-score   support\n",
      "\n",
      "          0       0.99      1.00      1.00     18698\n",
      "          1       1.00      0.83      0.91       964\n",
      "\n",
      "avg / total       0.99      0.99      0.99     19662\n",
      "\n",
      "\n",
      "\u001b[1mFeature : search_and_rescue\n",
      "\u001b[0m              precision    recall  f1-score   support\n",
      "\n",
      "          0       0.99      1.00      1.00     19105\n",
      "          1       1.00      0.79      0.88       557\n",
      "\n",
      "avg / total       0.99      0.99      0.99     19662\n",
      "\n",
      "\n",
      "\u001b[1mFeature : security\n",
      "\u001b[0m              precision    recall  f1-score   support\n",
      "\n",
      "          0       1.00      1.00      1.00     19303\n",
      "          1       0.99      0.73      0.84       359\n",
      "\n",
      "avg / total       1.00      1.00      0.99     19662\n",
      "\n",
      "\n",
      "\u001b[1mFeature : military\n",
      "\u001b[0m              precision    recall  f1-score   support\n",
      "\n",
      "          0       1.00      1.00      1.00     18992\n",
      "          1       1.00      0.88      0.94       670\n",
      "\n",
      "avg / total       1.00      1.00      1.00     19662\n",
      "\n",
      "\n",
      "\u001b[1mFeature : child_alone\n",
      "\u001b[0m              precision    recall  f1-score   support\n",
      "\n",
      "          0       1.00      1.00      1.00     19662\n",
      "\n",
      "avg / total       1.00      1.00      1.00     19662\n",
      "\n",
      "\n",
      "\u001b[1mFeature : water\n",
      "\u001b[0m              precision    recall  f1-score   support\n",
      "\n",
      "          0       0.99      1.00      1.00     18420\n",
      "          1       1.00      0.92      0.96      1242\n",
      "\n",
      "avg / total       0.99      0.99      0.99     19662\n",
      "\n",
      "\n",
      "\u001b[1mFeature : food\n",
      "\u001b[0m              precision    recall  f1-score   support\n",
      "\n",
      "          0       0.99      1.00      1.00     17493\n",
      "          1       1.00      0.94      0.97      2169\n",
      "\n",
      "avg / total       0.99      0.99      0.99     19662\n",
      "\n",
      "\n",
      "\u001b[1mFeature : shelter\n",
      "\u001b[0m              precision    recall  f1-score   support\n",
      "\n",
      "          0       0.99      1.00      1.00     17924\n",
      "          1       1.00      0.91      0.95      1738\n",
      "\n",
      "avg / total       0.99      0.99      0.99     19662\n",
      "\n",
      "\n",
      "\u001b[1mFeature : clothing\n",
      "\u001b[0m              precision    recall  f1-score   support\n",
      "\n",
      "          0       1.00      1.00      1.00     19356\n",
      "          1       1.00      0.87      0.93       306\n",
      "\n",
      "avg / total       1.00      1.00      1.00     19662\n",
      "\n",
      "\n",
      "\u001b[1mFeature : money\n",
      "\u001b[0m              precision    recall  f1-score   support\n",
      "\n",
      "          0       0.99      1.00      1.00     19199\n",
      "          1       1.00      0.79      0.88       463\n",
      "\n",
      "avg / total       1.00      1.00      0.99     19662\n",
      "\n",
      "\n",
      "\u001b[1mFeature : missing_people\n",
      "\u001b[0m              precision    recall  f1-score   support\n",
      "\n",
      "          0       1.00      1.00      1.00     19444\n",
      "          1       1.00      0.74      0.85       218\n",
      "\n",
      "avg / total       1.00      1.00      1.00     19662\n",
      "\n",
      "\n",
      "\u001b[1mFeature : refugees\n",
      "\u001b[0m              precision    recall  f1-score   support\n",
      "\n",
      "          0       0.99      1.00      1.00     19003\n",
      "          1       1.00      0.79      0.88       659\n",
      "\n",
      "avg / total       0.99      0.99      0.99     19662\n",
      "\n",
      "\n",
      "\u001b[1mFeature : death\n",
      "\u001b[0m              precision    recall  f1-score   support\n",
      "\n",
      "          0       0.99      1.00      1.00     18755\n",
      "          1       1.00      0.88      0.94       907\n",
      "\n",
      "avg / total       0.99      0.99      0.99     19662\n",
      "\n",
      "\n",
      "\u001b[1mFeature : other_aid\n",
      "\u001b[0m              precision    recall  f1-score   support\n",
      "\n",
      "          0       0.98      1.00      0.99     17105\n",
      "          1       1.00      0.84      0.91      2557\n",
      "\n",
      "avg / total       0.98      0.98      0.98     19662\n",
      "\n",
      "\n",
      "\u001b[1mFeature : infrastructure_related\n",
      "\u001b[0m              precision    recall  f1-score   support\n",
      "\n",
      "          0       0.99      1.00      0.99     18378\n",
      "          1       1.00      0.80      0.89      1284\n",
      "\n",
      "avg / total       0.99      0.99      0.99     19662\n",
      "\n",
      "\n",
      "\u001b[1mFeature : transport\n",
      "\u001b[0m              precision    recall  f1-score   support\n",
      "\n",
      "          0       0.99      1.00      1.00     18757\n",
      "          1       1.00      0.80      0.89       905\n",
      "\n",
      "avg / total       0.99      0.99      0.99     19662\n",
      "\n",
      "\n",
      "\u001b[1mFeature : buildings\n",
      "\u001b[0m              precision    recall  f1-score   support\n",
      "\n",
      "          0       0.99      1.00      1.00     18684\n",
      "          1       1.00      0.85      0.92       978\n",
      "\n",
      "avg / total       0.99      0.99      0.99     19662\n",
      "\n",
      "\n",
      "\u001b[1mFeature : electricity\n",
      "\u001b[0m              precision    recall  f1-score   support\n",
      "\n",
      "          0       1.00      1.00      1.00     19267\n",
      "          1       1.00      0.82      0.90       395\n",
      "\n",
      "avg / total       1.00      1.00      1.00     19662\n",
      "\n",
      "\n",
      "\u001b[1mFeature : tools\n",
      "\u001b[0m              precision    recall  f1-score   support\n",
      "\n",
      "          0       1.00      1.00      1.00     19541\n",
      "          1       0.98      0.66      0.79       121\n",
      "\n",
      "avg / total       1.00      1.00      1.00     19662\n",
      "\n",
      "\n",
      "\u001b[1mFeature : hospitals\n",
      "\u001b[0m              precision    recall  f1-score   support\n",
      "\n",
      "          0       1.00      1.00      1.00     19445\n",
      "          1       1.00      0.72      0.84       217\n",
      "\n",
      "avg / total       1.00      1.00      1.00     19662\n",
      "\n",
      "\n",
      "\u001b[1mFeature : shops\n",
      "\u001b[0m              precision    recall  f1-score   support\n",
      "\n",
      "          0       1.00      1.00      1.00     19570\n",
      "          1       1.00      0.75      0.86        92\n",
      "\n",
      "avg / total       1.00      1.00      1.00     19662\n",
      "\n",
      "\n",
      "\u001b[1mFeature : aid_centers\n",
      "\u001b[0m              precision    recall  f1-score   support\n",
      "\n",
      "          0       1.00      1.00      1.00     19424\n",
      "          1       1.00      0.76      0.87       238\n",
      "\n",
      "avg / total       1.00      1.00      1.00     19662\n",
      "\n",
      "\n",
      "\u001b[1mFeature : other_infrastructure\n",
      "\u001b[0m              precision    recall  f1-score   support\n",
      "\n",
      "          0       0.99      1.00      1.00     18800\n",
      "          1       1.00      0.79      0.88       862\n",
      "\n",
      "avg / total       0.99      0.99      0.99     19662\n",
      "\n",
      "\n",
      "\u001b[1mFeature : weather_related\n",
      "\u001b[0m              precision    recall  f1-score   support\n",
      "\n",
      "          0       0.98      1.00      0.99     14175\n",
      "          1       0.99      0.96      0.98      5487\n",
      "\n",
      "avg / total       0.99      0.99      0.99     19662\n",
      "\n",
      "\n",
      "\u001b[1mFeature : floods\n",
      "\u001b[0m              precision    recall  f1-score   support\n",
      "\n",
      "          0       0.99      1.00      1.00     18053\n",
      "          1       1.00      0.90      0.95      1609\n",
      "\n",
      "avg / total       0.99      0.99      0.99     19662\n",
      "\n",
      "\n",
      "\u001b[1mFeature : storm\n",
      "\u001b[0m              precision    recall  f1-score   support\n",
      "\n",
      "          0       0.99      1.00      1.00     17845\n",
      "          1       1.00      0.94      0.97      1817\n",
      "\n",
      "avg / total       0.99      0.99      0.99     19662\n",
      "\n",
      "\n",
      "\u001b[1mFeature : fire\n",
      "\u001b[0m              precision    recall  f1-score   support\n",
      "\n",
      "          0       1.00      1.00      1.00     19455\n",
      "          1       1.00      0.76      0.87       207\n",
      "\n",
      "avg / total       1.00      1.00      1.00     19662\n",
      "\n",
      "\n",
      "\u001b[1mFeature : earthquake\n",
      "\u001b[0m              precision    recall  f1-score   support\n",
      "\n",
      "          0       1.00      1.00      1.00     17802\n",
      "          1       0.99      0.96      0.98      1860\n",
      "\n",
      "avg / total       1.00      1.00      1.00     19662\n",
      "\n",
      "\n",
      "\u001b[1mFeature : cold\n",
      "\u001b[0m              precision    recall  f1-score   support\n",
      "\n",
      "          0       1.00      1.00      1.00     19249\n",
      "          1       1.00      0.87      0.93       413\n",
      "\n",
      "avg / total       1.00      1.00      1.00     19662\n",
      "\n",
      "\n",
      "\u001b[1mFeature : other_weather\n",
      "\u001b[0m              precision    recall  f1-score   support\n",
      "\n",
      "          0       0.99      1.00      0.99     18621\n",
      "          1       1.00      0.81      0.89      1041\n",
      "\n",
      "avg / total       0.99      0.99      0.99     19662\n",
      "\n",
      "\n",
      "\u001b[1mFeature : direct_report\n",
      "\u001b[0m              precision    recall  f1-score   support\n",
      "\n",
      "          0       0.98      1.00      0.99     15896\n",
      "          1       1.00      0.91      0.95      3766\n",
      "\n",
      "avg / total       0.98      0.98      0.98     19662\n",
      "\n",
      "\n"
     ]
    }
   ],
   "source": [
    "predicted_tr_df=pd.DataFrame(predicted_tr,columns=df.columns[4:])\n",
    "for col in df.columns[4:]:\n",
    "    print(style.BOLD + 'Feature : {}\\n'.format(col) + style.END,classification_report(y_train[col],predicted_tr_df[col]) + '\\n')"
   ]
  },
  {
   "cell_type": "markdown",
   "metadata": {},
   "source": [
    "**Fbeta  and Accuracy score**"
   ]
  },
  {
   "cell_type": "code",
   "execution_count": 8,
   "metadata": {
    "collapsed": false
   },
   "outputs": [
    {
     "name": "stdout",
     "output_type": "stream",
     "text": [
      "\u001b[1mF-beta score for the features \n",
      "\u001b[0m\n",
      "\u001b[1mrelated\u001b[0m : 0.989071088573\n",
      "\u001b[1mrequest\u001b[0m : 0.986471235977\n",
      "\u001b[1moffer\u001b[0m : 0.998569290481\n",
      "\u001b[1maid_related\u001b[0m : 0.984761486581\n",
      "\u001b[1mmedical_help\u001b[0m : 0.987602456083\n",
      "\u001b[1mmedical_products\u001b[0m : 0.99134508534\n",
      "\u001b[1msearch_and_rescue\u001b[0m : 0.99365887793\n",
      "\u001b[1msecurity\u001b[0m : 0.99464640463\n",
      "\u001b[1mmilitary\u001b[0m : 0.995704910381\n",
      "\u001b[1mchild_alone\u001b[0m : 1.0\n",
      "\u001b[1mwater\u001b[0m : 0.994818426623\n",
      "\u001b[1mfood\u001b[0m : 0.993302659556\n",
      "\u001b[1mshelter\u001b[0m : 0.991633440883\n",
      "\u001b[1mclothing\u001b[0m : 0.997899276324\n",
      "\u001b[1mmoney\u001b[0m : 0.994784218347\n",
      "\u001b[1mmissing_people\u001b[0m : 0.996944051834\n",
      "\u001b[1mrefugees\u001b[0m : 0.992526673227\n",
      "\u001b[1mdeath\u001b[0m : 0.994239733409\n",
      "\u001b[1mother_aid\u001b[0m : 0.977454140443\n",
      "\u001b[1minfrastructure_related\u001b[0m : 0.986529759541\n",
      "\u001b[1mtransport\u001b[0m : 0.990531132913\n",
      "\u001b[1mbuildings\u001b[0m : 0.992073873117\n",
      "\u001b[1melectricity\u001b[0m : 0.996157924523\n",
      "\u001b[1mtools\u001b[0m : 0.997604053078\n",
      "\u001b[1mhospitals\u001b[0m : 0.996706000349\n",
      "\u001b[1mshops\u001b[0m : 0.998747019463\n",
      "\u001b[1maid_centers\u001b[0m : 0.99696404084\n",
      "\u001b[1mother_infrastructure\u001b[0m : 0.990105574842\n",
      "\u001b[1mweather_related\u001b[0m : 0.987214674702\n",
      "\u001b[1mfloods\u001b[0m : 0.991885874393\n",
      "\u001b[1mstorm\u001b[0m : 0.994284832628\n",
      "\u001b[1mfire\u001b[0m : 0.997342171364\n",
      "\u001b[1mearthquake\u001b[0m : 0.995900293353\n",
      "\u001b[1mcold\u001b[0m : 0.997159455702\n",
      "\u001b[1mother_weather\u001b[0m : 0.989000095147\n",
      "\u001b[1mdirect_report\u001b[0m : 0.981303914335\n",
      "\u001b[1m\n",
      "Mean fbeta score : 0.9926373374141849\u001b[0m\n"
     ]
    }
   ],
   "source": [
    "print(style.BOLD + 'F-beta score for the features \\n' + style.END)\n",
    "f_score_lst=[]\n",
    "for col in df.columns[4:]:\n",
    "    f_score_lst.append(fbeta_score(y_train[col],predicted_tr_df[col],average='weighted',beta=1))\n",
    "    print(style.BOLD + col + style.END,':', fbeta_score(y_train[col],predicted_tr_df[col],average='weighted',beta=1))\n",
    "    \n",
    "print(style.BOLD +'\\nMean fbeta score : {}'.format(np.mean(f_score_lst)) +style.END)    "
   ]
  },
  {
   "cell_type": "code",
   "execution_count": 9,
   "metadata": {
    "collapsed": false
   },
   "outputs": [
    {
     "name": "stdout",
     "output_type": "stream",
     "text": [
      "\u001b[1mMean acc score : 0.9928782535968987\u001b[0m\n"
     ]
    }
   ],
   "source": [
    "acc_score_lst=[]\n",
    "for col in df.columns[4:]:\n",
    "    acc_score_lst.append((predicted_tr_df[col].values==y_train[col].values).mean())\n",
    "    \n",
    "print(style.BOLD +'Mean acc score : {}'.format(np.mean(acc_score_lst)) +style.END)  "
   ]
  },
  {
   "cell_type": "code",
   "execution_count": 13,
   "metadata": {
    "collapsed": false
   },
   "outputs": [
    {
     "name": "stdout",
     "output_type": "stream",
     "text": [
      "\u001b[1mMean acc score : 0.9928782535968987\u001b[0m\n"
     ]
    }
   ],
   "source": [
    "#ALternatively\n",
    "# acc_score_2=[]\n",
    "# for col in df.columns[4:]:\n",
    "#     acc_score_2.append((accuracy_score(y_train[col].values,predicted_tr_df[col].values,normalize=True)))\n",
    "    \n",
    "# print(style.BOLD +'Mean acc score : {}'.format(np.mean(acc_score_2)) +style.END) "
   ]
  },
  {
   "cell_type": "markdown",
   "metadata": {},
   "source": [
    "### 5. Test your model\n",
    "Report the f1 score, precision and recall for each output category of the dataset. You can do this by iterating through the columns and calling sklearn's `classification_report` on each."
   ]
  },
  {
   "cell_type": "code",
   "execution_count": 10,
   "metadata": {
    "collapsed": true
   },
   "outputs": [],
   "source": [
    "# evaluate all steps on test set\n",
    "predicted = pipeline.predict(X_test)"
   ]
  },
  {
   "cell_type": "code",
   "execution_count": 13,
   "metadata": {
    "collapsed": false
   },
   "outputs": [
    {
     "name": "stdout",
     "output_type": "stream",
     "text": [
      "['related' 'weather_related'] [[1 0 0 0 0 0 0 0 0 0 0 0 0 0 0 0 0 0 0 0 0 0 0 0 0 0 0 0 1 0 0 0 0 0 0 0]]\n"
     ]
    }
   ],
   "source": [
    "#sample \n",
    "output=pipeline.predict(msg)\n",
    "print(y_train.columns.values[(output.flatten()==1)],output)"
   ]
  },
  {
   "cell_type": "code",
   "execution_count": 14,
   "metadata": {
    "collapsed": true
   },
   "outputs": [],
   "source": [
    "predicted_df=pd.DataFrame(predicted,columns=df.columns[4:])"
   ]
  },
  {
   "cell_type": "code",
   "execution_count": 15,
   "metadata": {
    "collapsed": false
   },
   "outputs": [
    {
     "name": "stdout",
     "output_type": "stream",
     "text": [
      "\u001b[1mFeature : related\n",
      "\u001b[0m              precision    recall  f1-score   support\n",
      "\n",
      "          0       0.63      0.47      0.54      1550\n",
      "          1       0.84      0.92      0.88      4951\n",
      "          2       0.75      0.17      0.28        53\n",
      "\n",
      "avg / total       0.79      0.80      0.79      6554\n",
      " \n",
      "\n",
      "\u001b[1mFeature : request\n",
      "\u001b[0m              precision    recall  f1-score   support\n",
      "\n",
      "          0       0.89      0.98      0.93      5415\n",
      "          1       0.79      0.42      0.55      1139\n",
      "\n",
      "avg / total       0.87      0.88      0.86      6554\n",
      " \n",
      "\n",
      "\u001b[1mFeature : offer\n",
      "\u001b[0m              precision    recall  f1-score   support\n",
      "\n",
      "          0       1.00      1.00      1.00      6528\n",
      "          1       0.00      0.00      0.00        26\n",
      "\n",
      "avg / total       0.99      1.00      0.99      6554\n",
      " \n",
      "\n",
      "\u001b[1mFeature : aid_related\n",
      "\u001b[0m              precision    recall  f1-score   support\n",
      "\n",
      "          0       0.74      0.86      0.80      3815\n",
      "          1       0.76      0.59      0.66      2739\n",
      "\n",
      "avg / total       0.75      0.75      0.74      6554\n",
      " \n",
      "\n",
      "\u001b[1mFeature : medical_help\n",
      "\u001b[0m              precision    recall  f1-score   support\n",
      "\n",
      "          0       0.92      0.99      0.96      6001\n",
      "          1       0.52      0.08      0.15       553\n",
      "\n",
      "avg / total       0.89      0.92      0.89      6554\n",
      " \n",
      "\n",
      "\u001b[1mFeature : medical_products\n",
      "\u001b[0m              precision    recall  f1-score   support\n",
      "\n",
      "          0       0.95      1.00      0.97      6205\n",
      "          1       0.72      0.10      0.17       349\n",
      "\n",
      "avg / total       0.94      0.95      0.93      6554\n",
      " \n",
      "\n",
      "\u001b[1mFeature : search_and_rescue\n",
      "\u001b[0m              precision    recall  f1-score   support\n",
      "\n",
      "          0       0.98      1.00      0.99      6387\n",
      "          1       0.56      0.06      0.11       167\n",
      "\n",
      "avg / total       0.97      0.97      0.96      6554\n",
      " \n",
      "\n",
      "\u001b[1mFeature : security\n",
      "\u001b[0m              precision    recall  f1-score   support\n",
      "\n",
      "          0       0.98      1.00      0.99      6442\n",
      "          1       0.00      0.00      0.00       112\n",
      "\n",
      "avg / total       0.97      0.98      0.97      6554\n",
      " \n",
      "\n",
      "\u001b[1mFeature : military\n",
      "\u001b[0m              precision    recall  f1-score   support\n",
      "\n",
      "          0       0.97      1.00      0.99      6364\n",
      "          1       0.48      0.08      0.14       190\n",
      "\n",
      "avg / total       0.96      0.97      0.96      6554\n",
      " \n",
      "\n",
      "\u001b[1mFeature : child_alone\n",
      "\u001b[0m              precision    recall  f1-score   support\n",
      "\n",
      "          0       1.00      1.00      1.00      6554\n",
      "\n",
      "avg / total       1.00      1.00      1.00      6554\n",
      " \n",
      "\n",
      "\u001b[1mFeature : water\n",
      "\u001b[0m              precision    recall  f1-score   support\n",
      "\n",
      "          0       0.95      1.00      0.97      6124\n",
      "          1       0.87      0.29      0.44       430\n",
      "\n",
      "avg / total       0.95      0.95      0.94      6554\n",
      " \n",
      "\n",
      "\u001b[1mFeature : food\n",
      "\u001b[0m              precision    recall  f1-score   support\n",
      "\n",
      "          0       0.93      0.99      0.96      5800\n",
      "          1       0.84      0.41      0.55       754\n",
      "\n",
      "avg / total       0.92      0.92      0.91      6554\n",
      " \n",
      "\n",
      "\u001b[1mFeature : shelter\n",
      "\u001b[0m              precision    recall  f1-score   support\n",
      "\n",
      "          0       0.94      0.99      0.96      5978\n",
      "          1       0.81      0.31      0.45       576\n",
      "\n",
      "avg / total       0.93      0.93      0.92      6554\n",
      " \n",
      "\n",
      "\u001b[1mFeature : clothing\n",
      "\u001b[0m              precision    recall  f1-score   support\n",
      "\n",
      "          0       0.99      1.00      0.99      6455\n",
      "          1       0.74      0.29      0.42        99\n",
      "\n",
      "avg / total       0.99      0.99      0.99      6554\n",
      " \n",
      "\n",
      "\u001b[1mFeature : money\n",
      "\u001b[0m              precision    recall  f1-score   support\n",
      "\n",
      "          0       0.98      1.00      0.99      6413\n",
      "          1       1.00      0.02      0.04       141\n",
      "\n",
      "avg / total       0.98      0.98      0.97      6554\n",
      " \n",
      "\n",
      "\u001b[1mFeature : missing_people\n",
      "\u001b[0m              precision    recall  f1-score   support\n",
      "\n",
      "          0       0.99      1.00      0.99      6474\n",
      "          1       0.50      0.03      0.05        80\n",
      "\n",
      "avg / total       0.98      0.99      0.98      6554\n",
      " \n",
      "\n",
      "\u001b[1mFeature : refugees\n",
      "\u001b[0m              precision    recall  f1-score   support\n",
      "\n",
      "          0       0.97      1.00      0.98      6338\n",
      "          1       0.37      0.05      0.09       216\n",
      "\n",
      "avg / total       0.95      0.97      0.95      6554\n",
      " \n",
      "\n",
      "\u001b[1mFeature : death\n",
      "\u001b[0m              precision    recall  f1-score   support\n",
      "\n",
      "          0       0.96      1.00      0.98      6267\n",
      "          1       0.73      0.13      0.22       287\n",
      "\n",
      "avg / total       0.95      0.96      0.95      6554\n",
      " \n",
      "\n",
      "\u001b[1mFeature : other_aid\n",
      "\u001b[0m              precision    recall  f1-score   support\n",
      "\n",
      "          0       0.87      0.99      0.93      5665\n",
      "          1       0.43      0.03      0.06       889\n",
      "\n",
      "avg / total       0.81      0.86      0.81      6554\n",
      " \n",
      "\n",
      "\u001b[1mFeature : infrastructure_related\n",
      "\u001b[0m              precision    recall  f1-score   support\n",
      "\n",
      "          0       0.94      1.00      0.97      6133\n",
      "          1       0.14      0.00      0.01       421\n",
      "\n",
      "avg / total       0.88      0.93      0.90      6554\n",
      " \n",
      "\n",
      "\u001b[1mFeature : transport\n",
      "\u001b[0m              precision    recall  f1-score   support\n",
      "\n",
      "          0       0.96      1.00      0.98      6258\n",
      "          1       0.69      0.06      0.11       296\n",
      "\n",
      "avg / total       0.95      0.96      0.94      6554\n",
      " \n",
      "\n",
      "\u001b[1mFeature : buildings\n",
      "\u001b[0m              precision    recall  f1-score   support\n",
      "\n",
      "          0       0.95      1.00      0.97      6199\n",
      "          1       0.73      0.09      0.16       355\n",
      "\n",
      "avg / total       0.94      0.95      0.93      6554\n",
      " \n",
      "\n",
      "\u001b[1mFeature : electricity\n",
      "\u001b[0m              precision    recall  f1-score   support\n",
      "\n",
      "          0       0.98      1.00      0.99      6417\n",
      "          1       0.89      0.06      0.11       137\n",
      "\n",
      "avg / total       0.98      0.98      0.97      6554\n",
      " \n",
      "\n",
      "\u001b[1mFeature : tools\n",
      "\u001b[0m              precision    recall  f1-score   support\n",
      "\n",
      "          0       0.99      1.00      1.00      6516\n",
      "          1       0.00      0.00      0.00        38\n",
      "\n",
      "avg / total       0.99      0.99      0.99      6554\n",
      " \n",
      "\n",
      "\u001b[1mFeature : hospitals\n",
      "\u001b[0m              precision    recall  f1-score   support\n",
      "\n",
      "          0       0.99      1.00      0.99      6488\n",
      "          1       0.00      0.00      0.00        66\n",
      "\n",
      "avg / total       0.98      0.99      0.98      6554\n",
      " \n",
      "\n",
      "\u001b[1mFeature : shops\n",
      "\u001b[0m              precision    recall  f1-score   support\n",
      "\n",
      "          0       1.00      1.00      1.00      6526\n",
      "          1       0.00      0.00      0.00        28\n",
      "\n",
      "avg / total       0.99      1.00      0.99      6554\n",
      " \n",
      "\n",
      "\u001b[1mFeature : aid_centers\n",
      "\u001b[0m              precision    recall  f1-score   support\n",
      "\n",
      "          0       0.99      1.00      0.99      6483\n",
      "          1       0.00      0.00      0.00        71\n",
      "\n",
      "avg / total       0.98      0.99      0.98      6554\n",
      " \n",
      "\n",
      "\u001b[1mFeature : other_infrastructure\n",
      "\u001b[0m              precision    recall  f1-score   support\n",
      "\n",
      "          0       0.96      1.00      0.98      6265\n",
      "          1       0.00      0.00      0.00       289\n",
      "\n",
      "avg / total       0.91      0.96      0.93      6554\n",
      " \n",
      "\n",
      "\u001b[1mFeature : weather_related\n",
      "\u001b[0m              precision    recall  f1-score   support\n",
      "\n",
      "          0       0.87      0.95      0.91      4744\n",
      "          1       0.84      0.62      0.71      1810\n",
      "\n",
      "avg / total       0.86      0.86      0.86      6554\n",
      " \n",
      "\n",
      "\u001b[1mFeature : floods\n",
      "\u001b[0m              precision    recall  f1-score   support\n",
      "\n",
      "          0       0.95      0.99      0.97      6008\n",
      "          1       0.86      0.37      0.51       546\n",
      "\n",
      "avg / total       0.94      0.94      0.93      6554\n",
      " \n",
      "\n",
      "\u001b[1mFeature : storm\n",
      "\u001b[0m              precision    recall  f1-score   support\n",
      "\n",
      "          0       0.94      0.99      0.97      5928\n",
      "          1       0.80      0.45      0.58       626\n",
      "\n",
      "avg / total       0.93      0.94      0.93      6554\n",
      " \n",
      "\n",
      "\u001b[1mFeature : fire\n",
      "\u001b[0m              precision    recall  f1-score   support\n",
      "\n",
      "          0       0.99      1.00      0.99      6479\n",
      "          1       1.00      0.07      0.12        75\n",
      "\n",
      "avg / total       0.99      0.99      0.98      6554\n",
      " \n",
      "\n",
      "\u001b[1mFeature : earthquake\n",
      "\u001b[0m              precision    recall  f1-score   support\n",
      "\n",
      "          0       0.97      0.99      0.98      5959\n",
      "          1       0.88      0.72      0.79       595\n",
      "\n",
      "avg / total       0.96      0.97      0.96      6554\n",
      " \n",
      "\n",
      "\u001b[1mFeature : cold\n",
      "\u001b[0m              precision    recall  f1-score   support\n",
      "\n",
      "          0       0.99      1.00      0.99      6437\n",
      "          1       0.59      0.19      0.29       117\n",
      "\n",
      "avg / total       0.98      0.98      0.98      6554\n",
      " \n",
      "\n",
      "\u001b[1mFeature : other_weather\n",
      "\u001b[0m              precision    recall  f1-score   support\n",
      "\n",
      "          0       0.95      1.00      0.97      6219\n",
      "          1       0.50      0.03      0.05       335\n",
      "\n",
      "avg / total       0.93      0.95      0.93      6554\n",
      " \n",
      "\n",
      "\u001b[1mFeature : direct_report\n",
      "\u001b[0m              precision    recall  f1-score   support\n",
      "\n",
      "          0       0.85      0.97      0.91      5245\n",
      "          1       0.73      0.31      0.44      1309\n",
      "\n",
      "avg / total       0.82      0.84      0.81      6554\n",
      " \n",
      "\n"
     ]
    },
    {
     "name": "stderr",
     "output_type": "stream",
     "text": [
      "/opt/conda/lib/python3.6/site-packages/sklearn/metrics/classification.py:1135: UndefinedMetricWarning: Precision and F-score are ill-defined and being set to 0.0 in labels with no predicted samples.\n",
      "  'precision', 'predicted', average, warn_for)\n"
     ]
    }
   ],
   "source": [
    "for col in df.columns[4:]:\n",
    "    print(style.BOLD + 'Feature : {}\\n'.format(col) + style.END,classification_report(y_test[col],predicted_df[col]), '\\n')\n",
    "     "
   ]
  },
  {
   "cell_type": "markdown",
   "metadata": {},
   "source": [
    "**Mean Fbeta and accuracy score**"
   ]
  },
  {
   "cell_type": "code",
   "execution_count": 39,
   "metadata": {
    "collapsed": false
   },
   "outputs": [
    {
     "name": "stdout",
     "output_type": "stream",
     "text": [
      "\u001b[1mF-beta score for the features in Test data\n",
      "\u001b[0m\n",
      "\u001b[1mrelated\u001b[0m : 0.791148836823\n",
      "\u001b[1mrequest\u001b[0m : 0.863364339568\n",
      "\u001b[1moffer\u001b[0m : 0.994053377636\n",
      "\u001b[1maid_related\u001b[0m : 0.741879922313\n",
      "\u001b[1mmedical_help\u001b[0m : 0.887535970121\n",
      "\u001b[1mmedical_products\u001b[0m : 0.931465586518\n",
      "\u001b[1msearch_and_rescue\u001b[0m : 0.964831441116\n",
      "\u001b[1msecurity\u001b[0m : 0.973982521707\n",
      "\u001b[1mmilitary\u001b[0m : 0.960553880934\n",
      "\u001b[1mchild_alone\u001b[0m : 1.0\n",
      "\u001b[1mwater\u001b[0m : 0.93906388137\n",
      "\u001b[1mfood\u001b[0m : 0.911196557776\n",
      "\u001b[1mshelter\u001b[0m : 0.918580430265\n",
      "\u001b[1mclothing\u001b[0m : 0.985168406783\n",
      "\u001b[1mmoney\u001b[0m : 0.968966966055\n",
      "\u001b[1mmissing_people\u001b[0m : 0.982307436534\n",
      "\u001b[1mrefugees\u001b[0m : 0.953148722607\n",
      "\u001b[1mdeath\u001b[0m : 0.946028957435\n",
      "\u001b[1mother_aid\u001b[0m : 0.808883515653\n",
      "\u001b[1minfrastructure_related\u001b[0m : 0.904530387425\n",
      "\u001b[1mtransport\u001b[0m : 0.938528055654\n",
      "\u001b[1mbuildings\u001b[0m : 0.929591275989\n",
      "\u001b[1melectricity\u001b[0m : 0.971567832604\n",
      "\u001b[1mtools\u001b[0m : 0.991311449651\n",
      "\u001b[1mhospitals\u001b[0m : 0.984767603168\n",
      "\u001b[1mshops\u001b[0m : 0.993596272417\n",
      "\u001b[1maid_centers\u001b[0m : 0.983703587249\n",
      "\u001b[1mother_infrastructure\u001b[0m : 0.93397284087\n",
      "\u001b[1mweather_related\u001b[0m : 0.855433864656\n",
      "\u001b[1mfloods\u001b[0m : 0.931388559772\n",
      "\u001b[1mstorm\u001b[0m : 0.92856390038\n",
      "\u001b[1mfire\u001b[0m : 0.984675473984\n",
      "\u001b[1mearthquake\u001b[0m : 0.963951127328\n",
      "\u001b[1mcold\u001b[0m : 0.978908793844\n",
      "\u001b[1mother_weather\u001b[0m : 0.92657080108\n",
      "\u001b[1mdirect_report\u001b[0m : 0.812353024477\n",
      "\u001b[1m\n",
      "Mean fbeta score : 0.9315437667156554\u001b[0m\n"
     ]
    },
    {
     "name": "stderr",
     "output_type": "stream",
     "text": [
      "/opt/conda/lib/python3.6/site-packages/sklearn/metrics/classification.py:1135: UndefinedMetricWarning: F-score is ill-defined and being set to 0.0 in labels with no predicted samples.\n",
      "  'precision', 'predicted', average, warn_for)\n"
     ]
    }
   ],
   "source": [
    "print(style.BOLD + 'F-beta score for the features in Test data\\n' + style.END)\n",
    "f_score_test=[]\n",
    "for col in df.columns[4:]:\n",
    "    f_score_test.append(fbeta_score(y_test[col],predicted_df[col],average='weighted',beta=1))\n",
    "    print(style.BOLD + col + style.END,':', fbeta_score(y_test[col],predicted_df[col],average='weighted',beta=1))    \n",
    "\n",
    "print(style.BOLD +'\\nMean fbeta score : {}'.format(np.mean(f_score_test)) +style.END)        "
   ]
  },
  {
   "cell_type": "code",
   "execution_count": 55,
   "metadata": {
    "collapsed": false
   },
   "outputs": [
    {
     "name": "stdout",
     "output_type": "stream",
     "text": [
      "\u001b[1mMean acc score : 0.9438977045400604\u001b[0m\n"
     ]
    }
   ],
   "source": [
    "acc_score_test=[]\n",
    "for col in df.columns[4:]:\n",
    "    acc_score_test.append((predicted_df[col].values==y_test[col].values).mean())\n",
    "    \n",
    "print(style.BOLD +'Mean acc score : {}'.format(np.mean(acc_score_test)) +style.END)  "
   ]
  },
  {
   "cell_type": "code",
   "execution_count": 56,
   "metadata": {
    "collapsed": false
   },
   "outputs": [
    {
     "name": "stdout",
     "output_type": "stream",
     "text": [
      "\u001b[1mModel1, Mean acc score : 0.9438977045400604 and Mean fbeta score : 0.9315437667156554\u001b[0m\n"
     ]
    }
   ],
   "source": [
    "print(style.BOLD +'Model1, Mean acc score : {} and Mean fbeta score : {}'.format(np.mean(acc_score_test),np.mean(f_score_test)) +style.END) "
   ]
  },
  {
   "cell_type": "markdown",
   "metadata": {},
   "source": [
    "### 6. Improve your model\n",
    "Use grid search to find better parameters. "
   ]
  },
  {
   "cell_type": "code",
   "execution_count": 22,
   "metadata": {
    "collapsed": false
   },
   "outputs": [
    {
     "data": {
      "text/plain": [
       "dict_keys(['memory', 'steps', 'vect', 'tfidf', 'clf', 'vect__analyzer', 'vect__binary', 'vect__decode_error', 'vect__dtype', 'vect__encoding', 'vect__input', 'vect__lowercase', 'vect__max_df', 'vect__max_features', 'vect__min_df', 'vect__ngram_range', 'vect__preprocessor', 'vect__stop_words', 'vect__strip_accents', 'vect__token_pattern', 'vect__tokenizer', 'vect__vocabulary', 'tfidf__norm', 'tfidf__smooth_idf', 'tfidf__sublinear_tf', 'tfidf__use_idf', 'clf__estimator__bootstrap', 'clf__estimator__class_weight', 'clf__estimator__criterion', 'clf__estimator__max_depth', 'clf__estimator__max_features', 'clf__estimator__max_leaf_nodes', 'clf__estimator__min_impurity_decrease', 'clf__estimator__min_impurity_split', 'clf__estimator__min_samples_leaf', 'clf__estimator__min_samples_split', 'clf__estimator__min_weight_fraction_leaf', 'clf__estimator__n_estimators', 'clf__estimator__n_jobs', 'clf__estimator__oob_score', 'clf__estimator__random_state', 'clf__estimator__verbose', 'clf__estimator__warm_start', 'clf__estimator', 'clf__n_jobs'])"
      ]
     },
     "execution_count": 22,
     "metadata": {},
     "output_type": "execute_result"
    }
   ],
   "source": [
    "pipeline.get_params().keys()"
   ]
  },
  {
   "cell_type": "code",
   "execution_count": 23,
   "metadata": {
    "collapsed": false
   },
   "outputs": [
    {
     "data": {
      "text/plain": [
       "{'memory': None,\n",
       " 'steps': [('vect',\n",
       "   CountVectorizer(analyzer='word', binary=False, decode_error='strict',\n",
       "           dtype=<class 'numpy.int64'>, encoding='utf-8', input='content',\n",
       "           lowercase=True, max_df=1.0, max_features=None, min_df=1,\n",
       "           ngram_range=(1, 1), preprocessor=None, stop_words=None,\n",
       "           strip_accents=None, token_pattern='(?u)\\\\b\\\\w\\\\w+\\\\b',\n",
       "           tokenizer=<function tokenize at 0x7f402b828b70>, vocabulary=None)),\n",
       "  ('tfidf',\n",
       "   TfidfTransformer(norm='l2', smooth_idf=True, sublinear_tf=False, use_idf=True)),\n",
       "  ('clf',\n",
       "   MultiOutputClassifier(estimator=RandomForestClassifier(bootstrap=True, class_weight=None, criterion='gini',\n",
       "               max_depth=None, max_features='auto', max_leaf_nodes=None,\n",
       "               min_impurity_decrease=0.0, min_impurity_split=None,\n",
       "               min_samples_leaf=1, min_samples_split=2,\n",
       "               min_weight_fraction_leaf=0.0, n_estimators=10, n_jobs=1,\n",
       "               oob_score=False, random_state=None, verbose=0,\n",
       "               warm_start=False),\n",
       "              n_jobs=1))],\n",
       " 'vect': CountVectorizer(analyzer='word', binary=False, decode_error='strict',\n",
       "         dtype=<class 'numpy.int64'>, encoding='utf-8', input='content',\n",
       "         lowercase=True, max_df=1.0, max_features=None, min_df=1,\n",
       "         ngram_range=(1, 1), preprocessor=None, stop_words=None,\n",
       "         strip_accents=None, token_pattern='(?u)\\\\b\\\\w\\\\w+\\\\b',\n",
       "         tokenizer=<function tokenize at 0x7f402b828b70>, vocabulary=None),\n",
       " 'tfidf': TfidfTransformer(norm='l2', smooth_idf=True, sublinear_tf=False, use_idf=True),\n",
       " 'clf': MultiOutputClassifier(estimator=RandomForestClassifier(bootstrap=True, class_weight=None, criterion='gini',\n",
       "             max_depth=None, max_features='auto', max_leaf_nodes=None,\n",
       "             min_impurity_decrease=0.0, min_impurity_split=None,\n",
       "             min_samples_leaf=1, min_samples_split=2,\n",
       "             min_weight_fraction_leaf=0.0, n_estimators=10, n_jobs=1,\n",
       "             oob_score=False, random_state=None, verbose=0,\n",
       "             warm_start=False),\n",
       "            n_jobs=1),\n",
       " 'vect__analyzer': 'word',\n",
       " 'vect__binary': False,\n",
       " 'vect__decode_error': 'strict',\n",
       " 'vect__dtype': numpy.int64,\n",
       " 'vect__encoding': 'utf-8',\n",
       " 'vect__input': 'content',\n",
       " 'vect__lowercase': True,\n",
       " 'vect__max_df': 1.0,\n",
       " 'vect__max_features': None,\n",
       " 'vect__min_df': 1,\n",
       " 'vect__ngram_range': (1, 1),\n",
       " 'vect__preprocessor': None,\n",
       " 'vect__stop_words': None,\n",
       " 'vect__strip_accents': None,\n",
       " 'vect__token_pattern': '(?u)\\\\b\\\\w\\\\w+\\\\b',\n",
       " 'vect__tokenizer': <function __main__.tokenize(text)>,\n",
       " 'vect__vocabulary': None,\n",
       " 'tfidf__norm': 'l2',\n",
       " 'tfidf__smooth_idf': True,\n",
       " 'tfidf__sublinear_tf': False,\n",
       " 'tfidf__use_idf': True,\n",
       " 'clf__estimator__bootstrap': True,\n",
       " 'clf__estimator__class_weight': None,\n",
       " 'clf__estimator__criterion': 'gini',\n",
       " 'clf__estimator__max_depth': None,\n",
       " 'clf__estimator__max_features': 'auto',\n",
       " 'clf__estimator__max_leaf_nodes': None,\n",
       " 'clf__estimator__min_impurity_decrease': 0.0,\n",
       " 'clf__estimator__min_impurity_split': None,\n",
       " 'clf__estimator__min_samples_leaf': 1,\n",
       " 'clf__estimator__min_samples_split': 2,\n",
       " 'clf__estimator__min_weight_fraction_leaf': 0.0,\n",
       " 'clf__estimator__n_estimators': 10,\n",
       " 'clf__estimator__n_jobs': 1,\n",
       " 'clf__estimator__oob_score': False,\n",
       " 'clf__estimator__random_state': None,\n",
       " 'clf__estimator__verbose': 0,\n",
       " 'clf__estimator__warm_start': False,\n",
       " 'clf__estimator': RandomForestClassifier(bootstrap=True, class_weight=None, criterion='gini',\n",
       "             max_depth=None, max_features='auto', max_leaf_nodes=None,\n",
       "             min_impurity_decrease=0.0, min_impurity_split=None,\n",
       "             min_samples_leaf=1, min_samples_split=2,\n",
       "             min_weight_fraction_leaf=0.0, n_estimators=10, n_jobs=1,\n",
       "             oob_score=False, random_state=None, verbose=0,\n",
       "             warm_start=False),\n",
       " 'clf__n_jobs': 1}"
      ]
     },
     "execution_count": 23,
     "metadata": {},
     "output_type": "execute_result"
    }
   ],
   "source": [
    "pipeline.get_params()"
   ]
  },
  {
   "cell_type": "code",
   "execution_count": 24,
   "metadata": {
    "collapsed": false
   },
   "outputs": [
    {
     "name": "stdout",
     "output_type": "stream",
     "text": [
      "Fitting 3 folds for each of 8 candidates, totalling 24 fits\n",
      "[CV] clf__estimator__min_samples_leaf=2, clf__estimator__min_samples_split=2, vect__ngram_range=(1, 1) \n",
      "[CV]  clf__estimator__min_samples_leaf=2, clf__estimator__min_samples_split=2, vect__ngram_range=(1, 1), score=0.22612145254806226, total= 2.0min\n",
      "[CV] clf__estimator__min_samples_leaf=2, clf__estimator__min_samples_split=2, vect__ngram_range=(1, 1) \n"
     ]
    },
    {
     "name": "stderr",
     "output_type": "stream",
     "text": [
      "[Parallel(n_jobs=1)]: Done   1 out of   1 | elapsed:  3.1min remaining:    0.0s\n"
     ]
    },
    {
     "name": "stdout",
     "output_type": "stream",
     "text": [
      "[CV]  clf__estimator__min_samples_leaf=2, clf__estimator__min_samples_split=2, vect__ngram_range=(1, 1), score=0.2128471162648764, total= 2.0min\n",
      "[CV] clf__estimator__min_samples_leaf=2, clf__estimator__min_samples_split=2, vect__ngram_range=(1, 1) \n"
     ]
    },
    {
     "name": "stderr",
     "output_type": "stream",
     "text": [
      "[Parallel(n_jobs=1)]: Done   2 out of   2 | elapsed:  6.3min remaining:    0.0s\n"
     ]
    },
    {
     "name": "stdout",
     "output_type": "stream",
     "text": [
      "[CV]  clf__estimator__min_samples_leaf=2, clf__estimator__min_samples_split=2, vect__ngram_range=(1, 1), score=0.2230698809887092, total= 2.0min\n",
      "[CV] clf__estimator__min_samples_leaf=2, clf__estimator__min_samples_split=2, vect__ngram_range=(1, 2) \n"
     ]
    },
    {
     "name": "stderr",
     "output_type": "stream",
     "text": [
      "[Parallel(n_jobs=1)]: Done   3 out of   3 | elapsed:  9.4min remaining:    0.0s\n"
     ]
    },
    {
     "name": "stdout",
     "output_type": "stream",
     "text": [
      "[CV]  clf__estimator__min_samples_leaf=2, clf__estimator__min_samples_split=2, vect__ngram_range=(1, 2), score=0.2268843454379005, total= 2.4min\n",
      "[CV] clf__estimator__min_samples_leaf=2, clf__estimator__min_samples_split=2, vect__ngram_range=(1, 2) \n"
     ]
    },
    {
     "name": "stderr",
     "output_type": "stream",
     "text": [
      "[Parallel(n_jobs=1)]: Done   4 out of   4 | elapsed: 13.0min remaining:    0.0s\n"
     ]
    },
    {
     "name": "stdout",
     "output_type": "stream",
     "text": [
      "[CV]  clf__estimator__min_samples_leaf=2, clf__estimator__min_samples_split=2, vect__ngram_range=(1, 2), score=0.21071101617332927, total= 2.4min\n",
      "[CV] clf__estimator__min_samples_leaf=2, clf__estimator__min_samples_split=2, vect__ngram_range=(1, 2) \n"
     ]
    },
    {
     "name": "stderr",
     "output_type": "stream",
     "text": [
      "[Parallel(n_jobs=1)]: Done   5 out of   5 | elapsed: 16.6min remaining:    0.0s\n"
     ]
    },
    {
     "name": "stdout",
     "output_type": "stream",
     "text": [
      "[CV]  clf__estimator__min_samples_leaf=2, clf__estimator__min_samples_split=2, vect__ngram_range=(1, 2), score=0.22032346658529142, total= 2.4min\n",
      "[CV] clf__estimator__min_samples_leaf=2, clf__estimator__min_samples_split=4, vect__ngram_range=(1, 1) \n"
     ]
    },
    {
     "name": "stderr",
     "output_type": "stream",
     "text": [
      "[Parallel(n_jobs=1)]: Done   6 out of   6 | elapsed: 20.2min remaining:    0.0s\n"
     ]
    },
    {
     "name": "stdout",
     "output_type": "stream",
     "text": [
      "[CV]  clf__estimator__min_samples_leaf=2, clf__estimator__min_samples_split=4, vect__ngram_range=(1, 1), score=0.22612145254806226, total= 2.0min\n",
      "[CV] clf__estimator__min_samples_leaf=2, clf__estimator__min_samples_split=4, vect__ngram_range=(1, 1) \n"
     ]
    },
    {
     "name": "stderr",
     "output_type": "stream",
     "text": [
      "[Parallel(n_jobs=1)]: Done   7 out of   7 | elapsed: 23.3min remaining:    0.0s\n"
     ]
    },
    {
     "name": "stdout",
     "output_type": "stream",
     "text": [
      "[CV]  clf__estimator__min_samples_leaf=2, clf__estimator__min_samples_split=4, vect__ngram_range=(1, 1), score=0.2128471162648764, total= 2.0min\n",
      "[CV] clf__estimator__min_samples_leaf=2, clf__estimator__min_samples_split=4, vect__ngram_range=(1, 1) \n"
     ]
    },
    {
     "name": "stderr",
     "output_type": "stream",
     "text": [
      "[Parallel(n_jobs=1)]: Done   8 out of   8 | elapsed: 26.4min remaining:    0.0s\n"
     ]
    },
    {
     "name": "stdout",
     "output_type": "stream",
     "text": [
      "[CV]  clf__estimator__min_samples_leaf=2, clf__estimator__min_samples_split=4, vect__ngram_range=(1, 1), score=0.2230698809887092, total= 2.0min\n",
      "[CV] clf__estimator__min_samples_leaf=2, clf__estimator__min_samples_split=4, vect__ngram_range=(1, 2) \n"
     ]
    },
    {
     "name": "stderr",
     "output_type": "stream",
     "text": [
      "[Parallel(n_jobs=1)]: Done   9 out of   9 | elapsed: 29.5min remaining:    0.0s\n"
     ]
    },
    {
     "name": "stdout",
     "output_type": "stream",
     "text": [
      "[CV]  clf__estimator__min_samples_leaf=2, clf__estimator__min_samples_split=4, vect__ngram_range=(1, 2), score=0.2268843454379005, total= 2.4min\n",
      "[CV] clf__estimator__min_samples_leaf=2, clf__estimator__min_samples_split=4, vect__ngram_range=(1, 2) \n",
      "[CV]  clf__estimator__min_samples_leaf=2, clf__estimator__min_samples_split=4, vect__ngram_range=(1, 2), score=0.21071101617332927, total= 2.4min\n",
      "[CV] clf__estimator__min_samples_leaf=2, clf__estimator__min_samples_split=4, vect__ngram_range=(1, 2) \n",
      "[CV]  clf__estimator__min_samples_leaf=2, clf__estimator__min_samples_split=4, vect__ngram_range=(1, 2), score=0.22032346658529142, total= 2.4min\n",
      "[CV] clf__estimator__min_samples_leaf=3, clf__estimator__min_samples_split=2, vect__ngram_range=(1, 1) \n",
      "[CV]  clf__estimator__min_samples_leaf=3, clf__estimator__min_samples_split=2, vect__ngram_range=(1, 1), score=0.22276472383277388, total= 1.9min\n",
      "[CV] clf__estimator__min_samples_leaf=3, clf__estimator__min_samples_split=2, vect__ngram_range=(1, 1) \n",
      "[CV]  clf__estimator__min_samples_leaf=3, clf__estimator__min_samples_split=2, vect__ngram_range=(1, 1), score=0.2125419591089411, total= 1.9min\n",
      "[CV] clf__estimator__min_samples_leaf=3, clf__estimator__min_samples_split=2, vect__ngram_range=(1, 1) \n",
      "[CV]  clf__estimator__min_samples_leaf=3, clf__estimator__min_samples_split=2, vect__ngram_range=(1, 1), score=0.20949038754958804, total= 1.9min\n",
      "[CV] clf__estimator__min_samples_leaf=3, clf__estimator__min_samples_split=2, vect__ngram_range=(1, 2) \n",
      "[CV]  clf__estimator__min_samples_leaf=3, clf__estimator__min_samples_split=2, vect__ngram_range=(1, 2), score=0.2142203234665853, total= 2.2min\n",
      "[CV] clf__estimator__min_samples_leaf=3, clf__estimator__min_samples_split=2, vect__ngram_range=(1, 2) \n",
      "[CV]  clf__estimator__min_samples_leaf=3, clf__estimator__min_samples_split=2, vect__ngram_range=(1, 2), score=0.20094598718339945, total= 2.3min\n",
      "[CV] clf__estimator__min_samples_leaf=3, clf__estimator__min_samples_split=2, vect__ngram_range=(1, 2) \n",
      "[CV]  clf__estimator__min_samples_leaf=3, clf__estimator__min_samples_split=2, vect__ngram_range=(1, 2), score=0.21528837351235885, total= 2.2min\n",
      "[CV] clf__estimator__min_samples_leaf=3, clf__estimator__min_samples_split=4, vect__ngram_range=(1, 1) \n",
      "[CV]  clf__estimator__min_samples_leaf=3, clf__estimator__min_samples_split=4, vect__ngram_range=(1, 1), score=0.22276472383277388, total= 1.9min\n",
      "[CV] clf__estimator__min_samples_leaf=3, clf__estimator__min_samples_split=4, vect__ngram_range=(1, 1) \n",
      "[CV]  clf__estimator__min_samples_leaf=3, clf__estimator__min_samples_split=4, vect__ngram_range=(1, 1), score=0.2125419591089411, total= 1.9min\n",
      "[CV] clf__estimator__min_samples_leaf=3, clf__estimator__min_samples_split=4, vect__ngram_range=(1, 1) \n",
      "[CV]  clf__estimator__min_samples_leaf=3, clf__estimator__min_samples_split=4, vect__ngram_range=(1, 1), score=0.20949038754958804, total= 1.9min\n",
      "[CV] clf__estimator__min_samples_leaf=3, clf__estimator__min_samples_split=4, vect__ngram_range=(1, 2) \n",
      "[CV]  clf__estimator__min_samples_leaf=3, clf__estimator__min_samples_split=4, vect__ngram_range=(1, 2), score=0.2142203234665853, total= 2.2min\n",
      "[CV] clf__estimator__min_samples_leaf=3, clf__estimator__min_samples_split=4, vect__ngram_range=(1, 2) \n",
      "[CV]  clf__estimator__min_samples_leaf=3, clf__estimator__min_samples_split=4, vect__ngram_range=(1, 2), score=0.20094598718339945, total= 2.2min\n",
      "[CV] clf__estimator__min_samples_leaf=3, clf__estimator__min_samples_split=4, vect__ngram_range=(1, 2) \n",
      "[CV]  clf__estimator__min_samples_leaf=3, clf__estimator__min_samples_split=4, vect__ngram_range=(1, 2), score=0.21528837351235885, total= 2.3min\n"
     ]
    },
    {
     "name": "stderr",
     "output_type": "stream",
     "text": [
      "[Parallel(n_jobs=1)]: Done  24 out of  24 | elapsed: 79.2min finished\n"
     ]
    },
    {
     "data": {
      "text/plain": [
       "GridSearchCV(cv=None, error_score='raise',\n",
       "       estimator=Pipeline(memory=None,\n",
       "     steps=[('vect', CountVectorizer(analyzer='word', binary=False, decode_error='strict',\n",
       "        dtype=<class 'numpy.int64'>, encoding='utf-8', input='content',\n",
       "        lowercase=True, max_df=1.0, max_features=None, min_df=1,\n",
       "        ngram_range=(1, 1), preprocessor=None, stop_words=None,\n",
       "        strip...1,\n",
       "            oob_score=False, random_state=1, verbose=0, warm_start=False),\n",
       "           n_jobs=1))]),\n",
       "       fit_params=None, iid=True, n_jobs=1,\n",
       "       param_grid={'clf__estimator__min_samples_split': [2, 4], 'clf__estimator__min_samples_leaf': [2, 3], 'vect__ngram_range': ((1, 1), (1, 2))},\n",
       "       pre_dispatch='2*n_jobs', refit=True, return_train_score='warn',\n",
       "       scoring=None, verbose=10)"
      ]
     },
     "execution_count": 24,
     "metadata": {},
     "output_type": "execute_result"
    }
   ],
   "source": [
    "# parameters = {'features__text_pipeline__vect__min_df': [1, 5],\n",
    "#              'clf__estimator__n_estimators':[10], \n",
    "#              'clf__estimator__min_samples_split':[2, 5, 10]}\n",
    "parameters = {\n",
    "        'clf__estimator__min_samples_split': [2,4],\n",
    "        #'clf__estimator__min_samples_leaf': (1,2),\n",
    "        #'clf__estimator__n_estimators': [10,13],\n",
    "        'clf__estimator__min_samples_leaf': [2,3],\n",
    "        'vect__ngram_range': ((1, 1),(1, 2))\n",
    "    }\n",
    "cv = GridSearchCV(pipeline, param_grid=parameters,verbose = 10)\n",
    "cv.fit(X_train, y_train)"
   ]
  },
  {
   "cell_type": "code",
   "execution_count": 25,
   "metadata": {
    "collapsed": false
   },
   "outputs": [
    {
     "name": "stderr",
     "output_type": "stream",
     "text": [
      "/opt/conda/lib/python3.6/site-packages/sklearn/utils/deprecation.py:122: FutureWarning: You are accessing a training score ('split0_train_score'), which will not be available by default any more in 0.21. If you need training scores, please set return_train_score=True\n",
      "  warnings.warn(*warn_args, **warn_kwargs)\n",
      "/opt/conda/lib/python3.6/site-packages/sklearn/utils/deprecation.py:122: FutureWarning: You are accessing a training score ('split1_train_score'), which will not be available by default any more in 0.21. If you need training scores, please set return_train_score=True\n",
      "  warnings.warn(*warn_args, **warn_kwargs)\n",
      "/opt/conda/lib/python3.6/site-packages/sklearn/utils/deprecation.py:122: FutureWarning: You are accessing a training score ('split2_train_score'), which will not be available by default any more in 0.21. If you need training scores, please set return_train_score=True\n",
      "  warnings.warn(*warn_args, **warn_kwargs)\n",
      "/opt/conda/lib/python3.6/site-packages/sklearn/utils/deprecation.py:122: FutureWarning: You are accessing a training score ('mean_train_score'), which will not be available by default any more in 0.21. If you need training scores, please set return_train_score=True\n",
      "  warnings.warn(*warn_args, **warn_kwargs)\n",
      "/opt/conda/lib/python3.6/site-packages/sklearn/utils/deprecation.py:122: FutureWarning: You are accessing a training score ('std_train_score'), which will not be available by default any more in 0.21. If you need training scores, please set return_train_score=True\n",
      "  warnings.warn(*warn_args, **warn_kwargs)\n"
     ]
    },
    {
     "data": {
      "text/plain": [
       "{'mean_fit_time': array([  83.08681798,  108.57746387,   82.75087929,  108.71595677,\n",
       "          80.49023588,   98.86172462,   80.74821575,   97.68112167]),\n",
       " 'std_fit_time': array([ 0.64073483,  0.63798242,  0.20129363,  1.43328368,  0.42449748,\n",
       "         1.72530156,  0.7386794 ,  2.80514721]),\n",
       " 'mean_score_time': array([ 35.07820559,  35.53067183,  34.64028351,  35.57294122,\n",
       "         34.33403126,  35.2712543 ,  34.70490456,  35.25027847]),\n",
       " 'std_score_time': array([ 0.20951894,  0.27554913,  0.25256656,  0.29880888,  0.18222643,\n",
       "         0.31104054,  0.22764254,  0.12118037]),\n",
       " 'param_clf__estimator__min_samples_leaf': masked_array(data = [2 2 2 2 3 3 3 3],\n",
       "              mask = [False False False False False False False False],\n",
       "        fill_value = ?),\n",
       " 'param_clf__estimator__min_samples_split': masked_array(data = [2 2 4 4 2 2 4 4],\n",
       "              mask = [False False False False False False False False],\n",
       "        fill_value = ?),\n",
       " 'param_vect__ngram_range': masked_array(data = [(1, 1) (1, 2) (1, 1) (1, 2) (1, 1) (1, 2) (1, 1) (1, 2)],\n",
       "              mask = [False False False False False False False False],\n",
       "        fill_value = ?),\n",
       " 'params': [{'clf__estimator__min_samples_leaf': 2,\n",
       "   'clf__estimator__min_samples_split': 2,\n",
       "   'vect__ngram_range': (1, 1)},\n",
       "  {'clf__estimator__min_samples_leaf': 2,\n",
       "   'clf__estimator__min_samples_split': 2,\n",
       "   'vect__ngram_range': (1, 2)},\n",
       "  {'clf__estimator__min_samples_leaf': 2,\n",
       "   'clf__estimator__min_samples_split': 4,\n",
       "   'vect__ngram_range': (1, 1)},\n",
       "  {'clf__estimator__min_samples_leaf': 2,\n",
       "   'clf__estimator__min_samples_split': 4,\n",
       "   'vect__ngram_range': (1, 2)},\n",
       "  {'clf__estimator__min_samples_leaf': 3,\n",
       "   'clf__estimator__min_samples_split': 2,\n",
       "   'vect__ngram_range': (1, 1)},\n",
       "  {'clf__estimator__min_samples_leaf': 3,\n",
       "   'clf__estimator__min_samples_split': 2,\n",
       "   'vect__ngram_range': (1, 2)},\n",
       "  {'clf__estimator__min_samples_leaf': 3,\n",
       "   'clf__estimator__min_samples_split': 4,\n",
       "   'vect__ngram_range': (1, 1)},\n",
       "  {'clf__estimator__min_samples_leaf': 3,\n",
       "   'clf__estimator__min_samples_split': 4,\n",
       "   'vect__ngram_range': (1, 2)}],\n",
       " 'split0_test_score': array([ 0.22612145,  0.22688435,  0.22612145,  0.22688435,  0.22276472,\n",
       "         0.21422032,  0.22276472,  0.21422032]),\n",
       " 'split1_test_score': array([ 0.21284712,  0.21071102,  0.21284712,  0.21071102,  0.21254196,\n",
       "         0.20094599,  0.21254196,  0.20094599]),\n",
       " 'split2_test_score': array([ 0.22306988,  0.22032347,  0.22306988,  0.22032347,  0.20949039,\n",
       "         0.21528837,  0.20949039,  0.21528837]),\n",
       " 'mean_test_score': array([ 0.22067948,  0.21930628,  0.22067948,  0.21930628,  0.21493236,\n",
       "         0.21015156,  0.21493236,  0.21015156]),\n",
       " 'std_test_score': array([ 0.00567671,  0.00664179,  0.00567671,  0.00664179,  0.00567671,\n",
       "         0.00652391,  0.00567671,  0.00652391]),\n",
       " 'rank_test_score': array([1, 3, 1, 3, 5, 7, 5, 7], dtype=int32),\n",
       " 'split0_train_score': array([ 0.34803174,  0.33018004,  0.34803174,  0.33018004,  0.29752823,\n",
       "         0.27059811,  0.29752823,  0.27059811]),\n",
       " 'split1_train_score': array([ 0.34459872,  0.33422338,  0.34459872,  0.33422338,  0.30164785,\n",
       "         0.27242905,  0.30164785,  0.27242905]),\n",
       " 'split2_train_score': array([ 0.34734513,  0.33376564,  0.34734513,  0.33376564,  0.29279829,\n",
       "         0.27296308,  0.29279829,  0.27296308]),\n",
       " 'mean_train_score': array([ 0.34665853,  0.33272302,  0.34665853,  0.33272302,  0.29732479,\n",
       "         0.27199674,  0.29732479,  0.27199674]),\n",
       " 'std_train_score': array([ 0.00148323,  0.00180784,  0.00148323,  0.00180784,  0.00361568,\n",
       "         0.00101273,  0.00361568,  0.00101273])}"
      ]
     },
     "execution_count": 25,
     "metadata": {},
     "output_type": "execute_result"
    }
   ],
   "source": [
    "cv.cv_results_ "
   ]
  },
  {
   "cell_type": "code",
   "execution_count": 26,
   "metadata": {
    "collapsed": false
   },
   "outputs": [
    {
     "data": {
      "text/plain": [
       "{'clf__estimator__min_samples_leaf': 2,\n",
       " 'clf__estimator__min_samples_split': 2,\n",
       " 'vect__ngram_range': (1, 1)}"
      ]
     },
     "execution_count": 26,
     "metadata": {},
     "output_type": "execute_result"
    }
   ],
   "source": [
    "cv.best_params_"
   ]
  },
  {
   "cell_type": "code",
   "execution_count": 27,
   "metadata": {
    "collapsed": false
   },
   "outputs": [
    {
     "data": {
      "text/plain": [
       "Pipeline(memory=None,\n",
       "     steps=[('vect', CountVectorizer(analyzer='word', binary=False, decode_error='strict',\n",
       "        dtype=<class 'numpy.int64'>, encoding='utf-8', input='content',\n",
       "        lowercase=True, max_df=1.0, max_features=None, min_df=1,\n",
       "        ngram_range=(1, 1), preprocessor=None, stop_words=None,\n",
       "        strip...1,\n",
       "            oob_score=False, random_state=1, verbose=0, warm_start=False),\n",
       "           n_jobs=1))])"
      ]
     },
     "execution_count": 27,
     "metadata": {},
     "output_type": "execute_result"
    }
   ],
   "source": [
    "cv.best_estimator_"
   ]
  },
  {
   "cell_type": "markdown",
   "metadata": {},
   "source": [
    "### 7. Test your model\n",
    "Show the accuracy, precision, and recall of the tuned model.  \n",
    "\n",
    "Since this project focuses on code quality, process, and  pipelines, there is no minimum performance metric needed to pass. However, make sure to fine tune your models for accuracy, precision and recall to make your project stand out - especially for your portfolio!"
   ]
  },
  {
   "cell_type": "code",
   "execution_count": 28,
   "metadata": {
    "collapsed": true
   },
   "outputs": [],
   "source": [
    "tuned_pred = cv.predict(X_test)"
   ]
  },
  {
   "cell_type": "code",
   "execution_count": 29,
   "metadata": {
    "collapsed": false
   },
   "outputs": [
    {
     "data": {
      "text/html": [
       "<div>\n",
       "<style scoped>\n",
       "    .dataframe tbody tr th:only-of-type {\n",
       "        vertical-align: middle;\n",
       "    }\n",
       "\n",
       "    .dataframe tbody tr th {\n",
       "        vertical-align: top;\n",
       "    }\n",
       "\n",
       "    .dataframe thead th {\n",
       "        text-align: right;\n",
       "    }\n",
       "</style>\n",
       "<table border=\"1\" class=\"dataframe\">\n",
       "  <thead>\n",
       "    <tr style=\"text-align: right;\">\n",
       "      <th></th>\n",
       "      <th>related</th>\n",
       "      <th>request</th>\n",
       "      <th>offer</th>\n",
       "      <th>aid_related</th>\n",
       "      <th>medical_help</th>\n",
       "      <th>medical_products</th>\n",
       "      <th>search_and_rescue</th>\n",
       "      <th>security</th>\n",
       "      <th>military</th>\n",
       "      <th>child_alone</th>\n",
       "      <th>...</th>\n",
       "      <th>aid_centers</th>\n",
       "      <th>other_infrastructure</th>\n",
       "      <th>weather_related</th>\n",
       "      <th>floods</th>\n",
       "      <th>storm</th>\n",
       "      <th>fire</th>\n",
       "      <th>earthquake</th>\n",
       "      <th>cold</th>\n",
       "      <th>other_weather</th>\n",
       "      <th>direct_report</th>\n",
       "    </tr>\n",
       "  </thead>\n",
       "  <tbody>\n",
       "    <tr>\n",
       "      <th>0</th>\n",
       "      <td>1</td>\n",
       "      <td>0</td>\n",
       "      <td>0</td>\n",
       "      <td>0</td>\n",
       "      <td>0</td>\n",
       "      <td>0</td>\n",
       "      <td>0</td>\n",
       "      <td>0</td>\n",
       "      <td>0</td>\n",
       "      <td>0</td>\n",
       "      <td>...</td>\n",
       "      <td>0</td>\n",
       "      <td>0</td>\n",
       "      <td>0</td>\n",
       "      <td>1</td>\n",
       "      <td>0</td>\n",
       "      <td>0</td>\n",
       "      <td>0</td>\n",
       "      <td>0</td>\n",
       "      <td>0</td>\n",
       "      <td>0</td>\n",
       "    </tr>\n",
       "  </tbody>\n",
       "</table>\n",
       "<p>1 rows × 36 columns</p>\n",
       "</div>"
      ],
      "text/plain": [
       "   related  request  offer  aid_related  medical_help  medical_products  \\\n",
       "0  1        0        0      0            0             0                  \n",
       "\n",
       "   search_and_rescue  security  military  child_alone      ...        \\\n",
       "0  0                  0         0         0                ...         \n",
       "\n",
       "   aid_centers  other_infrastructure  weather_related  floods  storm  fire  \\\n",
       "0  0            0                     0                1       0      0      \n",
       "\n",
       "   earthquake  cold  other_weather  direct_report  \n",
       "0  0           0     0              0              \n",
       "\n",
       "[1 rows x 36 columns]"
      ]
     },
     "execution_count": 29,
     "metadata": {},
     "output_type": "execute_result"
    }
   ],
   "source": [
    "tuned_df=pd.DataFrame(tuned_pred,columns=df.columns[4:])\n",
    "tuned_df.head(1)"
   ]
  },
  {
   "cell_type": "code",
   "execution_count": 43,
   "metadata": {
    "collapsed": false
   },
   "outputs": [
    {
     "name": "stdout",
     "output_type": "stream",
     "text": [
      "\u001b[1mFeature : related\n",
      "\u001b[0m              precision    recall  f1-score   support\n",
      "\n",
      "          0       0.71      0.40      0.51      1550\n",
      "          1       0.83      0.95      0.88      4951\n",
      "          2       0.86      0.11      0.20        53\n",
      "\n",
      "avg / total       0.80      0.81      0.79      6554\n",
      " \n",
      "\n",
      "\u001b[1mFeature : request\n",
      "\u001b[0m              precision    recall  f1-score   support\n",
      "\n",
      "          0       0.89      0.98      0.93      5415\n",
      "          1       0.83      0.40      0.54      1139\n",
      "\n",
      "avg / total       0.88      0.88      0.86      6554\n",
      " \n",
      "\n",
      "\u001b[1mFeature : offer\n",
      "\u001b[0m              precision    recall  f1-score   support\n",
      "\n",
      "          0       1.00      1.00      1.00      6528\n",
      "          1       0.00      0.00      0.00        26\n",
      "\n",
      "avg / total       0.99      1.00      0.99      6554\n",
      " \n",
      "\n",
      "\u001b[1mFeature : aid_related\n",
      "\u001b[0m              precision    recall  f1-score   support\n",
      "\n",
      "          0       0.79      0.81      0.80      3815\n",
      "          1       0.73      0.69      0.71      2739\n",
      "\n",
      "avg / total       0.76      0.76      0.76      6554\n",
      " \n",
      "\n",
      "\u001b[1mFeature : medical_help\n",
      "\u001b[0m              precision    recall  f1-score   support\n",
      "\n",
      "          0       0.92      1.00      0.96      6001\n",
      "          1       0.51      0.05      0.09       553\n",
      "\n",
      "avg / total       0.88      0.92      0.88      6554\n",
      " \n",
      "\n",
      "\u001b[1mFeature : medical_products\n",
      "\u001b[0m              precision    recall  f1-score   support\n",
      "\n",
      "          0       0.95      1.00      0.97      6205\n",
      "          1       0.69      0.03      0.05       349\n",
      "\n",
      "avg / total       0.93      0.95      0.92      6554\n",
      " \n",
      "\n",
      "\u001b[1mFeature : search_and_rescue\n",
      "\u001b[0m              precision    recall  f1-score   support\n",
      "\n",
      "          0       0.97      1.00      0.99      6387\n",
      "          1       0.50      0.01      0.01       167\n",
      "\n",
      "avg / total       0.96      0.97      0.96      6554\n",
      " \n",
      "\n",
      "\u001b[1mFeature : security\n",
      "\u001b[0m              precision    recall  f1-score   support\n",
      "\n",
      "          0       0.98      1.00      0.99      6442\n",
      "          1       0.00      0.00      0.00       112\n",
      "\n",
      "avg / total       0.97      0.98      0.97      6554\n",
      " \n",
      "\n",
      "\u001b[1mFeature : military\n",
      "\u001b[0m              precision    recall  f1-score   support\n",
      "\n",
      "          0       0.97      1.00      0.99      6364\n",
      "          1       0.50      0.04      0.07       190\n",
      "\n",
      "avg / total       0.96      0.97      0.96      6554\n",
      " \n",
      "\n",
      "\u001b[1mFeature : child_alone\n",
      "\u001b[0m              precision    recall  f1-score   support\n",
      "\n",
      "          0       1.00      1.00      1.00      6554\n",
      "\n",
      "avg / total       1.00      1.00      1.00      6554\n",
      " \n",
      "\n",
      "\u001b[1mFeature : water\n",
      "\u001b[0m              precision    recall  f1-score   support\n",
      "\n",
      "          0       0.94      1.00      0.97      6124\n",
      "          1       0.90      0.06      0.12       430\n",
      "\n",
      "avg / total       0.94      0.94      0.91      6554\n",
      " \n",
      "\n",
      "\u001b[1mFeature : food\n",
      "\u001b[0m              precision    recall  f1-score   support\n",
      "\n",
      "          0       0.91      0.99      0.95      5800\n",
      "          1       0.81      0.29      0.43       754\n",
      "\n",
      "avg / total       0.90      0.91      0.89      6554\n",
      " \n",
      "\n",
      "\u001b[1mFeature : shelter\n",
      "\u001b[0m              precision    recall  f1-score   support\n",
      "\n",
      "          0       0.93      0.99      0.96      5978\n",
      "          1       0.79      0.20      0.32       576\n",
      "\n",
      "avg / total       0.92      0.93      0.90      6554\n",
      " \n",
      "\n",
      "\u001b[1mFeature : clothing\n",
      "\u001b[0m              precision    recall  f1-score   support\n",
      "\n",
      "          0       0.99      1.00      0.99      6455\n",
      "          1       0.67      0.02      0.04        99\n",
      "\n",
      "avg / total       0.98      0.99      0.98      6554\n",
      " \n",
      "\n",
      "\u001b[1mFeature : money\n",
      "\u001b[0m              precision    recall  f1-score   support\n",
      "\n",
      "          0       0.98      1.00      0.99      6413\n",
      "          1       1.00      0.01      0.01       141\n",
      "\n",
      "avg / total       0.98      0.98      0.97      6554\n",
      " \n",
      "\n",
      "\u001b[1mFeature : missing_people\n",
      "\u001b[0m              precision    recall  f1-score   support\n",
      "\n",
      "          0       0.99      1.00      0.99      6474\n",
      "          1       0.00      0.00      0.00        80\n",
      "\n",
      "avg / total       0.98      0.99      0.98      6554\n",
      " \n",
      "\n",
      "\u001b[1mFeature : refugees\n",
      "\u001b[0m              precision    recall  f1-score   support\n",
      "\n",
      "          0       0.97      1.00      0.98      6338\n",
      "          1       0.75      0.04      0.08       216\n",
      "\n",
      "avg / total       0.96      0.97      0.95      6554\n",
      " \n",
      "\n",
      "\u001b[1mFeature : death\n",
      "\u001b[0m              precision    recall  f1-score   support\n",
      "\n",
      "          0       0.96      1.00      0.98      6267\n",
      "          1       0.74      0.09      0.16       287\n",
      "\n",
      "avg / total       0.95      0.96      0.94      6554\n",
      " \n",
      "\n",
      "\u001b[1mFeature : other_aid\n",
      "\u001b[0m              precision    recall  f1-score   support\n",
      "\n",
      "          0       0.87      1.00      0.93      5665\n",
      "          1       0.65      0.01      0.03       889\n",
      "\n",
      "avg / total       0.84      0.87      0.81      6554\n",
      " \n",
      "\n",
      "\u001b[1mFeature : infrastructure_related\n",
      "\u001b[0m              precision    recall  f1-score   support\n",
      "\n",
      "          0       0.94      1.00      0.97      6133\n",
      "          1       0.17      0.00      0.00       421\n",
      "\n",
      "avg / total       0.89      0.94      0.90      6554\n",
      " \n",
      "\n",
      "\u001b[1mFeature : transport\n",
      "\u001b[0m              precision    recall  f1-score   support\n",
      "\n",
      "          0       0.96      1.00      0.98      6258\n",
      "          1       0.83      0.03      0.06       296\n",
      "\n",
      "avg / total       0.95      0.96      0.94      6554\n",
      " \n",
      "\n",
      "\u001b[1mFeature : buildings\n",
      "\u001b[0m              precision    recall  f1-score   support\n",
      "\n",
      "          0       0.95      1.00      0.97      6199\n",
      "          1       0.86      0.05      0.10       355\n",
      "\n",
      "avg / total       0.94      0.95      0.93      6554\n",
      " \n",
      "\n",
      "\u001b[1mFeature : electricity\n",
      "\u001b[0m              precision    recall  f1-score   support\n",
      "\n",
      "          0       0.98      1.00      0.99      6417\n",
      "          1       1.00      0.03      0.06       137\n",
      "\n",
      "avg / total       0.98      0.98      0.97      6554\n",
      " \n",
      "\n",
      "\u001b[1mFeature : tools\n",
      "\u001b[0m              precision    recall  f1-score   support\n",
      "\n",
      "          0       0.99      1.00      1.00      6516\n",
      "          1       0.00      0.00      0.00        38\n",
      "\n",
      "avg / total       0.99      0.99      0.99      6554\n",
      " \n",
      "\n",
      "\u001b[1mFeature : hospitals\n",
      "\u001b[0m              precision    recall  f1-score   support\n",
      "\n",
      "          0       0.99      1.00      0.99      6488\n",
      "          1       0.00      0.00      0.00        66\n",
      "\n",
      "avg / total       0.98      0.99      0.98      6554\n",
      " \n",
      "\n",
      "\u001b[1mFeature : shops\n",
      "\u001b[0m              precision    recall  f1-score   support\n",
      "\n",
      "          0       1.00      1.00      1.00      6526\n",
      "          1       0.00      0.00      0.00        28\n",
      "\n",
      "avg / total       0.99      1.00      0.99      6554\n",
      " \n",
      "\n",
      "\u001b[1mFeature : aid_centers\n",
      "\u001b[0m              precision    recall  f1-score   support\n",
      "\n",
      "          0       0.99      1.00      0.99      6483\n",
      "          1       0.00      0.00      0.00        71\n",
      "\n",
      "avg / total       0.98      0.99      0.98      6554\n",
      " \n",
      "\n",
      "\u001b[1mFeature : other_infrastructure\n",
      "\u001b[0m              precision    recall  f1-score   support\n",
      "\n",
      "          0       0.96      1.00      0.98      6265\n",
      "          1       0.00      0.00      0.00       289\n",
      "\n",
      "avg / total       0.91      0.96      0.93      6554\n",
      " \n",
      "\n",
      "\u001b[1mFeature : weather_related\n",
      "\u001b[0m              precision    recall  f1-score   support\n",
      "\n",
      "          0       0.88      0.94      0.91      4744\n",
      "          1       0.82      0.68      0.74      1810\n",
      "\n",
      "avg / total       0.87      0.87      0.87      6554\n",
      " \n",
      "\n",
      "\u001b[1mFeature : floods\n",
      "\u001b[0m              precision    recall  f1-score   support\n",
      "\n",
      "          0       0.94      1.00      0.97      6008\n",
      "          1       0.87      0.32      0.46       546\n",
      "\n",
      "avg / total       0.94      0.94      0.93      6554\n",
      " \n",
      "\n",
      "\u001b[1mFeature : storm\n",
      "\u001b[0m              precision    recall  f1-score   support\n",
      "\n",
      "          0       0.94      0.99      0.96      5928\n",
      "          1       0.77      0.44      0.56       626\n",
      "\n",
      "avg / total       0.93      0.93      0.93      6554\n",
      " \n",
      "\n",
      "\u001b[1mFeature : fire\n",
      "\u001b[0m              precision    recall  f1-score   support\n",
      "\n",
      "          0       0.99      1.00      0.99      6479\n",
      "          1       1.00      0.03      0.05        75\n",
      "\n",
      "avg / total       0.99      0.99      0.98      6554\n",
      " \n",
      "\n",
      "\u001b[1mFeature : earthquake\n",
      "\u001b[0m              precision    recall  f1-score   support\n",
      "\n",
      "          0       0.97      0.99      0.98      5959\n",
      "          1       0.87      0.64      0.74       595\n",
      "\n",
      "avg / total       0.96      0.96      0.96      6554\n",
      " \n",
      "\n",
      "\u001b[1mFeature : cold\n",
      "\u001b[0m              precision    recall  f1-score   support\n",
      "\n",
      "          0       0.98      1.00      0.99      6437\n",
      "          1       0.69      0.09      0.17       117\n",
      "\n",
      "avg / total       0.98      0.98      0.98      6554\n",
      " \n",
      "\n",
      "\u001b[1mFeature : other_weather\n",
      "\u001b[0m              precision    recall  f1-score   support\n",
      "\n",
      "          0       0.95      1.00      0.97      6219\n",
      "          1       0.78      0.02      0.04       335\n",
      "\n",
      "avg / total       0.94      0.95      0.93      6554\n",
      " \n",
      "\n",
      "\u001b[1mFeature : direct_report\n",
      "\u001b[0m              precision    recall  f1-score   support\n",
      "\n",
      "          0       0.84      0.98      0.91      5245\n",
      "          1       0.79      0.25      0.38      1309\n",
      "\n",
      "avg / total       0.83      0.84      0.80      6554\n",
      " \n",
      "\n"
     ]
    },
    {
     "name": "stderr",
     "output_type": "stream",
     "text": [
      "/opt/conda/lib/python3.6/site-packages/sklearn/metrics/classification.py:1135: UndefinedMetricWarning: Precision and F-score are ill-defined and being set to 0.0 in labels with no predicted samples.\n",
      "  'precision', 'predicted', average, warn_for)\n"
     ]
    }
   ],
   "source": [
    "for col in df.columns[4:]:\n",
    "    print(style.BOLD + 'Feature : {}\\n'.format(col) + style.END,classification_report(y_test[col],tuned_df[col]), '\\n')"
   ]
  },
  {
   "cell_type": "code",
   "execution_count": 57,
   "metadata": {
    "collapsed": false
   },
   "outputs": [
    {
     "name": "stdout",
     "output_type": "stream",
     "text": [
      "\u001b[1mTuned model 1 :: F-beta score for the features in Test data\n",
      "\u001b[0m\n",
      "\u001b[1mrelated\u001b[0m : 0.790517834927\n",
      "\u001b[1mrequest\u001b[0m : 0.863140072625\n",
      "\u001b[1moffer\u001b[0m : 0.994053377636\n",
      "\u001b[1maid_related\u001b[0m : 0.760304698937\n",
      "\u001b[1mmedical_help\u001b[0m : 0.88246717817\n",
      "\u001b[1mmedical_products\u001b[0m : 0.923846157997\n",
      "\u001b[1msearch_and_rescue\u001b[0m : 0.96224307834\n",
      "\u001b[1msecurity\u001b[0m : 0.974440434854\n",
      "\u001b[1mmilitary\u001b[0m : 0.958702309726\n",
      "\u001b[1mchild_alone\u001b[0m : 1.0\n",
      "\u001b[1mwater\u001b[0m : 0.912099213949\n",
      "\u001b[1mfood\u001b[0m : 0.890878033797\n",
      "\u001b[1mshelter\u001b[0m : 0.904270894626\n",
      "\u001b[1mclothing\u001b[0m : 0.978065918854\n",
      "\u001b[1mmoney\u001b[0m : 0.968224250597\n",
      "\u001b[1mmissing_people\u001b[0m : 0.981728047728\n",
      "\u001b[1mrefugees\u001b[0m : 0.953877887558\n",
      "\u001b[1mdeath\u001b[0m : 0.942765488997\n",
      "\u001b[1mother_aid\u001b[0m : 0.805672619555\n",
      "\u001b[1minfrastructure_related\u001b[0m : 0.904703417557\n",
      "\u001b[1mtransport\u001b[0m : 0.936285593412\n",
      "\u001b[1mbuildings\u001b[0m : 0.926108642264\n",
      "\u001b[1melectricity\u001b[0m : 0.970240330672\n",
      "\u001b[1mtools\u001b[0m : 0.991311449651\n",
      "\u001b[1mhospitals\u001b[0m : 0.98492020124\n",
      "\u001b[1mshops\u001b[0m : 0.993596272417\n",
      "\u001b[1maid_centers\u001b[0m : 0.983779880128\n",
      "\u001b[1mother_infrastructure\u001b[0m : 0.934277985742\n",
      "\u001b[1mweather_related\u001b[0m : 0.865505862663\n",
      "\u001b[1mfloods\u001b[0m : 0.925682367941\n",
      "\u001b[1mstorm\u001b[0m : 0.925333869879\n",
      "\u001b[1mfire\u001b[0m : 0.983613148893\n",
      "\u001b[1mearthquake\u001b[0m : 0.956146517389\n",
      "\u001b[1mcold\u001b[0m : 0.976699024501\n",
      "\u001b[1mother_weather\u001b[0m : 0.926433920828\n",
      "\u001b[1mdirect_report\u001b[0m : 0.801314748628\n",
      "\u001b[1m\n",
      "Mean fbeta score : 0.9287014092410997\u001b[0m\n"
     ]
    },
    {
     "name": "stderr",
     "output_type": "stream",
     "text": [
      "/opt/conda/lib/python3.6/site-packages/sklearn/metrics/classification.py:1135: UndefinedMetricWarning: F-score is ill-defined and being set to 0.0 in labels with no predicted samples.\n",
      "  'precision', 'predicted', average, warn_for)\n"
     ]
    }
   ],
   "source": [
    "print(style.BOLD + 'Tuned model 1 :: F-beta score for the features in Test data\\n' + style.END)\n",
    "f_score_test_m2=[]\n",
    "for col in df.columns[4:]:\n",
    "    f_score_test_m2.append(fbeta_score(y_test[col],tuned_df[col],average='weighted',beta=1))\n",
    "    print(style.BOLD + col + style.END,':', fbeta_score(y_test[col],tuned_df[col],average='weighted',beta=1))\n",
    "\n",
    "print(style.BOLD +'\\nMean fbeta score : {}'.format(np.mean(f_score_test_m2)) +style.END)      "
   ]
  },
  {
   "cell_type": "code",
   "execution_count": 60,
   "metadata": {
    "collapsed": false
   },
   "outputs": [
    {
     "name": "stdout",
     "output_type": "stream",
     "text": [
      "\u001b[1mMean acc score : 0.9434272539246602\u001b[0m\n"
     ]
    }
   ],
   "source": [
    "acc_score_test_m2=[]\n",
    "for col in df.columns[4:]:\n",
    "    acc_score_test_m2.append((tuned_df[col].values==y_test[col].values).mean())\n",
    "    \n",
    "print(style.BOLD +'Mean acc score : {}'.format(np.mean(acc_score_test_m2)) +style.END)  "
   ]
  },
  {
   "cell_type": "code",
   "execution_count": 59,
   "metadata": {
    "collapsed": false
   },
   "outputs": [
    {
     "name": "stdout",
     "output_type": "stream",
     "text": [
      "\u001b[1mModel1, Mean acc score : 0.9438977045400604 and Mean fbeta score : 0.9315437667156554\u001b[0m\n"
     ]
    }
   ],
   "source": [
    "print(style.BOLD +'Model1, Mean acc score : {} and Mean fbeta score : {}'.format(np.mean(acc_score_test),np.mean(f_score_test)) +style.END) "
   ]
  },
  {
   "cell_type": "code",
   "execution_count": 58,
   "metadata": {
    "collapsed": false
   },
   "outputs": [
    {
     "name": "stdout",
     "output_type": "stream",
     "text": [
      "\u001b[1mModel2(using gridsearch), Mean acc score : 0.9434272539246602 and Mean fbeta score : 0.9287014092410997\u001b[0m\n"
     ]
    }
   ],
   "source": [
    "print(style.BOLD +'Model2(using gridsearch), Mean acc score : {} and Mean fbeta score : {}'.format(np.mean(acc_score_test_m2),np.mean(f_score_test_m2)) +style.END) "
   ]
  },
  {
   "cell_type": "markdown",
   "metadata": {},
   "source": [
    "### 8. Try improving your model further. Here are a few ideas:\n",
    "* try other machine learning algorithms\n",
    "* add other features besides the TF-IDF"
   ]
  },
  {
   "cell_type": "markdown",
   "metadata": {},
   "source": [
    "We shall use AdaBoostClassifier instead of RandomBoostClassifier."
   ]
  },
  {
   "cell_type": "code",
   "execution_count": 61,
   "metadata": {
    "collapsed": true
   },
   "outputs": [],
   "source": [
    "pipeline_2 = Pipeline([\n",
    "    ('vect', CountVectorizer(tokenizer=tokenize)),\n",
    "    ('tfidf', TfidfTransformer()),\n",
    "    ('clf', MultiOutputClassifier(AdaBoostClassifier(random_state=1))),\n",
    "])"
   ]
  },
  {
   "cell_type": "code",
   "execution_count": 7,
   "metadata": {
    "collapsed": false
   },
   "outputs": [
    {
     "data": {
      "text/plain": [
       "dict_keys(['memory', 'steps', 'vect', 'tfidf', 'clf', 'vect__analyzer', 'vect__binary', 'vect__decode_error', 'vect__dtype', 'vect__encoding', 'vect__input', 'vect__lowercase', 'vect__max_df', 'vect__max_features', 'vect__min_df', 'vect__ngram_range', 'vect__preprocessor', 'vect__stop_words', 'vect__strip_accents', 'vect__token_pattern', 'vect__tokenizer', 'vect__vocabulary', 'tfidf__norm', 'tfidf__smooth_idf', 'tfidf__sublinear_tf', 'tfidf__use_idf', 'clf__estimator__algorithm', 'clf__estimator__base_estimator', 'clf__estimator__learning_rate', 'clf__estimator__n_estimators', 'clf__estimator__random_state', 'clf__estimator', 'clf__n_jobs'])"
      ]
     },
     "execution_count": 7,
     "metadata": {},
     "output_type": "execute_result"
    }
   ],
   "source": [
    "pipeline_2.get_params().keys()"
   ]
  },
  {
   "cell_type": "code",
   "execution_count": 8,
   "metadata": {
    "collapsed": false
   },
   "outputs": [
    {
     "data": {
      "text/plain": [
       "{'memory': None,\n",
       " 'steps': [('vect',\n",
       "   CountVectorizer(analyzer='word', binary=False, decode_error='strict',\n",
       "           dtype=<class 'numpy.int64'>, encoding='utf-8', input='content',\n",
       "           lowercase=True, max_df=1.0, max_features=None, min_df=1,\n",
       "           ngram_range=(1, 1), preprocessor=None, stop_words=None,\n",
       "           strip_accents=None, token_pattern='(?u)\\\\b\\\\w\\\\w+\\\\b',\n",
       "           tokenizer=<function tokenize at 0x7f0448159620>, vocabulary=None)),\n",
       "  ('tfidf',\n",
       "   TfidfTransformer(norm='l2', smooth_idf=True, sublinear_tf=False, use_idf=True)),\n",
       "  ('clf',\n",
       "   MultiOutputClassifier(estimator=AdaBoostClassifier(algorithm='SAMME.R', base_estimator=None,\n",
       "             learning_rate=1.0, n_estimators=50, random_state=1),\n",
       "              n_jobs=1))],\n",
       " 'vect': CountVectorizer(analyzer='word', binary=False, decode_error='strict',\n",
       "         dtype=<class 'numpy.int64'>, encoding='utf-8', input='content',\n",
       "         lowercase=True, max_df=1.0, max_features=None, min_df=1,\n",
       "         ngram_range=(1, 1), preprocessor=None, stop_words=None,\n",
       "         strip_accents=None, token_pattern='(?u)\\\\b\\\\w\\\\w+\\\\b',\n",
       "         tokenizer=<function tokenize at 0x7f0448159620>, vocabulary=None),\n",
       " 'tfidf': TfidfTransformer(norm='l2', smooth_idf=True, sublinear_tf=False, use_idf=True),\n",
       " 'clf': MultiOutputClassifier(estimator=AdaBoostClassifier(algorithm='SAMME.R', base_estimator=None,\n",
       "           learning_rate=1.0, n_estimators=50, random_state=1),\n",
       "            n_jobs=1),\n",
       " 'vect__analyzer': 'word',\n",
       " 'vect__binary': False,\n",
       " 'vect__decode_error': 'strict',\n",
       " 'vect__dtype': numpy.int64,\n",
       " 'vect__encoding': 'utf-8',\n",
       " 'vect__input': 'content',\n",
       " 'vect__lowercase': True,\n",
       " 'vect__max_df': 1.0,\n",
       " 'vect__max_features': None,\n",
       " 'vect__min_df': 1,\n",
       " 'vect__ngram_range': (1, 1),\n",
       " 'vect__preprocessor': None,\n",
       " 'vect__stop_words': None,\n",
       " 'vect__strip_accents': None,\n",
       " 'vect__token_pattern': '(?u)\\\\b\\\\w\\\\w+\\\\b',\n",
       " 'vect__tokenizer': <function __main__.tokenize(text)>,\n",
       " 'vect__vocabulary': None,\n",
       " 'tfidf__norm': 'l2',\n",
       " 'tfidf__smooth_idf': True,\n",
       " 'tfidf__sublinear_tf': False,\n",
       " 'tfidf__use_idf': True,\n",
       " 'clf__estimator__algorithm': 'SAMME.R',\n",
       " 'clf__estimator__base_estimator': None,\n",
       " 'clf__estimator__learning_rate': 1.0,\n",
       " 'clf__estimator__n_estimators': 50,\n",
       " 'clf__estimator__random_state': 1,\n",
       " 'clf__estimator': AdaBoostClassifier(algorithm='SAMME.R', base_estimator=None,\n",
       "           learning_rate=1.0, n_estimators=50, random_state=1),\n",
       " 'clf__n_jobs': 1}"
      ]
     },
     "execution_count": 8,
     "metadata": {},
     "output_type": "execute_result"
    }
   ],
   "source": [
    "pipeline_2.get_params()"
   ]
  },
  {
   "cell_type": "code",
   "execution_count": 9,
   "metadata": {
    "collapsed": false
   },
   "outputs": [
    {
     "name": "stdout",
     "output_type": "stream",
     "text": [
      "Fitting 3 folds for each of 4 candidates, totalling 12 fits\n",
      "[CV] clf__estimator__learning_rate=0.07, clf__estimator__n_estimators=50 \n",
      "[CV]  clf__estimator__learning_rate=0.07, clf__estimator__n_estimators=50, score=0.21361000915471468, total= 2.6min\n",
      "[CV] clf__estimator__learning_rate=0.07, clf__estimator__n_estimators=50 \n"
     ]
    },
    {
     "name": "stderr",
     "output_type": "stream",
     "text": [
      "[Parallel(n_jobs=1)]: Done   1 out of   1 | elapsed:  3.7min remaining:    0.0s\n"
     ]
    },
    {
     "name": "stdout",
     "output_type": "stream",
     "text": [
      "[CV]  clf__estimator__learning_rate=0.07, clf__estimator__n_estimators=50, score=0.21849252364967958, total= 2.6min\n",
      "[CV] clf__estimator__learning_rate=0.07, clf__estimator__n_estimators=50 \n"
     ]
    },
    {
     "name": "stderr",
     "output_type": "stream",
     "text": [
      "[Parallel(n_jobs=1)]: Done   2 out of   2 | elapsed:  7.5min remaining:    0.0s\n"
     ]
    },
    {
     "name": "stdout",
     "output_type": "stream",
     "text": [
      "[CV]  clf__estimator__learning_rate=0.07, clf__estimator__n_estimators=50, score=0.20735428745804088, total= 2.6min\n",
      "[CV] clf__estimator__learning_rate=0.07, clf__estimator__n_estimators=100 \n"
     ]
    },
    {
     "name": "stderr",
     "output_type": "stream",
     "text": [
      "[Parallel(n_jobs=1)]: Done   3 out of   3 | elapsed: 11.2min remaining:    0.0s\n"
     ]
    },
    {
     "name": "stdout",
     "output_type": "stream",
     "text": [
      "[CV]  clf__estimator__learning_rate=0.07, clf__estimator__n_estimators=100, score=0.21513579493439122, total= 3.6min\n",
      "[CV] clf__estimator__learning_rate=0.07, clf__estimator__n_estimators=100 \n"
     ]
    },
    {
     "name": "stderr",
     "output_type": "stream",
     "text": [
      "[Parallel(n_jobs=1)]: Done   4 out of   4 | elapsed: 16.1min remaining:    0.0s\n"
     ]
    },
    {
     "name": "stdout",
     "output_type": "stream",
     "text": [
      "[CV]  clf__estimator__learning_rate=0.07, clf__estimator__n_estimators=100, score=0.22093378089716204, total= 3.6min\n",
      "[CV] clf__estimator__learning_rate=0.07, clf__estimator__n_estimators=100 \n"
     ]
    },
    {
     "name": "stderr",
     "output_type": "stream",
     "text": [
      "[Parallel(n_jobs=1)]: Done   5 out of   5 | elapsed: 20.9min remaining:    0.0s\n"
     ]
    },
    {
     "name": "stdout",
     "output_type": "stream",
     "text": [
      "[CV]  clf__estimator__learning_rate=0.07, clf__estimator__n_estimators=100, score=0.21269453768690877, total= 3.6min\n",
      "[CV] clf__estimator__learning_rate=0.05, clf__estimator__n_estimators=50 \n"
     ]
    },
    {
     "name": "stderr",
     "output_type": "stream",
     "text": [
      "[Parallel(n_jobs=1)]: Done   6 out of   6 | elapsed: 25.7min remaining:    0.0s\n"
     ]
    },
    {
     "name": "stdout",
     "output_type": "stream",
     "text": [
      "[CV]  clf__estimator__learning_rate=0.05, clf__estimator__n_estimators=50, score=0.2125419591089411, total= 2.6min\n",
      "[CV] clf__estimator__learning_rate=0.05, clf__estimator__n_estimators=50 \n"
     ]
    },
    {
     "name": "stderr",
     "output_type": "stream",
     "text": [
      "[Parallel(n_jobs=1)]: Done   7 out of   7 | elapsed: 29.4min remaining:    0.0s\n"
     ]
    },
    {
     "name": "stdout",
     "output_type": "stream",
     "text": [
      "[CV]  clf__estimator__learning_rate=0.05, clf__estimator__n_estimators=50, score=0.21956057369545315, total= 2.6min\n",
      "[CV] clf__estimator__learning_rate=0.05, clf__estimator__n_estimators=50 \n"
     ]
    },
    {
     "name": "stderr",
     "output_type": "stream",
     "text": [
      "[Parallel(n_jobs=1)]: Done   8 out of   8 | elapsed: 33.2min remaining:    0.0s\n"
     ]
    },
    {
     "name": "stdout",
     "output_type": "stream",
     "text": [
      "[CV]  clf__estimator__learning_rate=0.05, clf__estimator__n_estimators=50, score=0.2004882514494965, total= 2.6min\n",
      "[CV] clf__estimator__learning_rate=0.05, clf__estimator__n_estimators=100 \n"
     ]
    },
    {
     "name": "stderr",
     "output_type": "stream",
     "text": [
      "[Parallel(n_jobs=1)]: Done   9 out of   9 | elapsed: 36.9min remaining:    0.0s\n"
     ]
    },
    {
     "name": "stdout",
     "output_type": "stream",
     "text": [
      "[CV]  clf__estimator__learning_rate=0.05, clf__estimator__n_estimators=100, score=0.21315227342081172, total= 3.6min\n",
      "[CV] clf__estimator__learning_rate=0.05, clf__estimator__n_estimators=100 \n",
      "[CV]  clf__estimator__learning_rate=0.05, clf__estimator__n_estimators=100, score=0.21925541653951786, total= 3.6min\n",
      "[CV] clf__estimator__learning_rate=0.05, clf__estimator__n_estimators=100 \n",
      "[CV]  clf__estimator__learning_rate=0.05, clf__estimator__n_estimators=100, score=0.2079646017699115, total= 3.6min\n"
     ]
    },
    {
     "name": "stderr",
     "output_type": "stream",
     "text": [
      "[Parallel(n_jobs=1)]: Done  12 out of  12 | elapsed: 51.3min finished\n"
     ]
    },
    {
     "data": {
      "text/plain": [
       "GridSearchCV(cv=None, error_score='raise',\n",
       "       estimator=Pipeline(memory=None,\n",
       "     steps=[('vect', CountVectorizer(analyzer='word', binary=False, decode_error='strict',\n",
       "        dtype=<class 'numpy.int64'>, encoding='utf-8', input='content',\n",
       "        lowercase=True, max_df=1.0, max_features=None, min_df=1,\n",
       "        ngram_range=(1, 1), preprocessor=None, stop_words=None,\n",
       "        strip...stimator=None,\n",
       "          learning_rate=1.0, n_estimators=50, random_state=1),\n",
       "           n_jobs=1))]),\n",
       "       fit_params=None, iid=True, n_jobs=1,\n",
       "       param_grid={'clf__estimator__n_estimators': [50, 100], 'clf__estimator__learning_rate': [0.07, 0.05]},\n",
       "       pre_dispatch='2*n_jobs', refit=True, return_train_score='warn',\n",
       "       scoring=None, verbose=10)"
      ]
     },
     "execution_count": 9,
     "metadata": {},
     "output_type": "execute_result"
    }
   ],
   "source": [
    "parameters_2 = {\n",
    "        'clf__estimator__n_estimators': [50,100],\n",
    "        'clf__estimator__learning_rate': [0.07,0.05]\n",
    "    }\n",
    "cv_2 = GridSearchCV(pipeline_2, param_grid=parameters_2,verbose = 10)\n",
    "cv_2.fit(X_train, y_train)"
   ]
  },
  {
   "cell_type": "code",
   "execution_count": 10,
   "metadata": {
    "collapsed": false
   },
   "outputs": [
    {
     "data": {
      "text/plain": [
       "{'clf__estimator__learning_rate': 0.07, 'clf__estimator__n_estimators': 100}"
      ]
     },
     "execution_count": 10,
     "metadata": {},
     "output_type": "execute_result"
    }
   ],
   "source": [
    "cv_2.best_params_"
   ]
  },
  {
   "cell_type": "code",
   "execution_count": 11,
   "metadata": {
    "collapsed": false
   },
   "outputs": [
    {
     "data": {
      "text/plain": [
       "Pipeline(memory=None,\n",
       "     steps=[('vect', CountVectorizer(analyzer='word', binary=False, decode_error='strict',\n",
       "        dtype=<class 'numpy.int64'>, encoding='utf-8', input='content',\n",
       "        lowercase=True, max_df=1.0, max_features=None, min_df=1,\n",
       "        ngram_range=(1, 1), preprocessor=None, stop_words=None,\n",
       "        strip...imator=None,\n",
       "          learning_rate=0.07, n_estimators=100, random_state=1),\n",
       "           n_jobs=1))])"
      ]
     },
     "execution_count": 11,
     "metadata": {},
     "output_type": "execute_result"
    }
   ],
   "source": [
    "cv_2.best_estimator_"
   ]
  },
  {
   "cell_type": "code",
   "execution_count": 13,
   "metadata": {
    "collapsed": true
   },
   "outputs": [],
   "source": [
    "tuned_pred_2 =cv_2.predict(X_test)"
   ]
  },
  {
   "cell_type": "code",
   "execution_count": 14,
   "metadata": {
    "collapsed": true
   },
   "outputs": [],
   "source": [
    "tuned_pred_2_df=pd.DataFrame(tuned_pred_2,columns=df.columns[4:])"
   ]
  },
  {
   "cell_type": "code",
   "execution_count": 19,
   "metadata": {
    "collapsed": false
   },
   "outputs": [
    {
     "name": "stdout",
     "output_type": "stream",
     "text": [
      "\u001b[1mrelated\u001b[0m : 0.650163804807\n",
      "\u001b[1mrequest\u001b[0m : 0.844605815678\n",
      "\u001b[1moffer\u001b[0m : 0.994053377636\n",
      "\u001b[1maid_related\u001b[0m : 0.682959408139\n",
      "\u001b[1mmedical_help\u001b[0m : 0.886150385361\n",
      "\u001b[1mmedical_products\u001b[0m : 0.929954637329\n",
      "\u001b[1msearch_and_rescue\u001b[0m : 0.966302086451\n",
      "\u001b[1msecurity\u001b[0m : 0.974440434854\n",
      "\u001b[1mmilitary\u001b[0m : 0.957808547145\n",
      "\u001b[1mchild_alone\u001b[0m : 1.0\n",
      "\u001b[1mwater\u001b[0m : 0.958445771281\n",
      "\u001b[1mfood\u001b[0m : 0.937376767161\n",
      "\u001b[1mshelter\u001b[0m : 0.929986191651\n",
      "\u001b[1mclothing\u001b[0m : 0.987500626063\n",
      "\u001b[1mmoney\u001b[0m : 0.970728171421\n",
      "\u001b[1mmissing_people\u001b[0m : 0.981651755459\n",
      "\u001b[1mrefugees\u001b[0m : 0.954648875322\n",
      "\u001b[1mdeath\u001b[0m : 0.942023656544\n",
      "\u001b[1mother_aid\u001b[0m : 0.805351588108\n",
      "\u001b[1minfrastructure_related\u001b[0m : 0.905384837949\n",
      "\u001b[1mtransport\u001b[0m : 0.94062281364\n",
      "\u001b[1mbuildings\u001b[0m : 0.940324000157\n",
      "\u001b[1melectricity\u001b[0m : 0.973085081957\n",
      "\u001b[1mtools\u001b[0m : 0.991311449651\n",
      "\u001b[1mhospitals\u001b[0m : 0.985845213912\n",
      "\u001b[1mshops\u001b[0m : 0.993596272417\n",
      "\u001b[1maid_centers\u001b[0m : 0.983779880128\n",
      "\u001b[1mother_infrastructure\u001b[0m : 0.934049144947\n",
      "\u001b[1mweather_related\u001b[0m : 0.815762251116\n",
      "\u001b[1mfloods\u001b[0m : 0.948625657738\n",
      "\u001b[1mstorm\u001b[0m : 0.899099915182\n",
      "\u001b[1mfire\u001b[0m : 0.983974390651\n",
      "\u001b[1mearthquake\u001b[0m : 0.967402336988\n",
      "\u001b[1mcold\u001b[0m : 0.978429185886\n",
      "\u001b[1mother_weather\u001b[0m : 0.925906617124\n",
      "\u001b[1mdirect_report\u001b[0m : 0.781898890923\n",
      "\u001b[1m\n",
      "Mean fbeta score : 0.9250902733549035\u001b[0m\n"
     ]
    },
    {
     "name": "stderr",
     "output_type": "stream",
     "text": [
      "/opt/conda/lib/python3.6/site-packages/sklearn/metrics/classification.py:1135: UndefinedMetricWarning: F-score is ill-defined and being set to 0.0 in labels with no predicted samples.\n",
      "  'precision', 'predicted', average, warn_for)\n"
     ]
    }
   ],
   "source": [
    "f_score_test_2=[]\n",
    "for col in df.columns[4:]:\n",
    "    f_score_test_2.append(fbeta_score(y_test[col],tuned_pred_2_df[col],average='weighted',beta=1))\n",
    "    print(style.BOLD + col + style.END,':', fbeta_score(y_test[col],tuned_pred_2_df[col],average='weighted',beta=1))    \n",
    "\n",
    "print(style.BOLD +'\\nMean fbeta score : {}'.format(np.mean(f_score_test_2)) +style.END) \n"
   ]
  },
  {
   "cell_type": "code",
   "execution_count": 20,
   "metadata": {
    "collapsed": false
   },
   "outputs": [
    {
     "name": "stdout",
     "output_type": "stream",
     "text": [
      "\u001b[1mMean acc score : 0.9415751195198863\u001b[0m\n"
     ]
    }
   ],
   "source": [
    "acc_score_test_2=[]\n",
    "for col in df.columns[4:]:\n",
    "    acc_score_test_2.append((tuned_pred_2_df[col].values==y_test[col].values).mean())\n",
    "    \n",
    "print(style.BOLD +'Mean acc score : {}'.format(np.mean(acc_score_test_2)) +style.END)  "
   ]
  },
  {
   "cell_type": "markdown",
   "metadata": {},
   "source": [
    "The initial untuned model seems to do better.   \n",
    "Model1, Mean acc score : 0.9438977045400604 and Mean fbeta score : 0.9315437667156554\n",
    "the inital model is better than the tuned model and the model with Adaboost Classifier. We should note that no additional preprocesing was done which would have yielded a better accuracy score."
   ]
  },
  {
   "cell_type": "markdown",
   "metadata": {},
   "source": [
    "### 9. Export your model as a pickle file"
   ]
  },
  {
   "cell_type": "code",
   "execution_count": 62,
   "metadata": {
    "collapsed": true
   },
   "outputs": [],
   "source": [
    "pickle.dump(pipeline, open('classifier.pkl', 'wb'))\n",
    "\n",
    "#loaded_model = pickle.load(open('model.pkl', 'rb'))\n",
    "# result = loaded_model.score(X_test, Y_test)"
   ]
  },
  {
   "cell_type": "code",
   "execution_count": 63,
   "metadata": {
    "collapsed": false
   },
   "outputs": [
    {
     "data": {
      "text/plain": [
       "sklearn.pipeline.Pipeline"
      ]
     },
     "execution_count": 63,
     "metadata": {},
     "output_type": "execute_result"
    }
   ],
   "source": [
    "loaded_model = pickle.load(open('classifier.pkl', 'rb'))\n",
    "type(loaded_model)"
   ]
  },
  {
   "cell_type": "markdown",
   "metadata": {},
   "source": [
    "### 10. Use this notebook to complete `train.py`\n",
    "Use the template file attached in the Resources folder to write a script that runs the steps above to create a database and export a model based on a new dataset specified by the user."
   ]
  },
  {
   "cell_type": "code",
   "execution_count": null,
   "metadata": {
    "collapsed": true
   },
   "outputs": [],
   "source": []
  }
 ],
 "metadata": {
  "kernelspec": {
   "display_name": "Python [conda env:udacity_ipnd]",
   "language": "python",
   "name": "conda-env-udacity_ipnd-py"
  },
  "language_info": {
   "codemirror_mode": {
    "name": "ipython",
    "version": 3
   },
   "file_extension": ".py",
   "mimetype": "text/x-python",
   "name": "python",
   "nbconvert_exporter": "python",
   "pygments_lexer": "ipython3",
   "version": "3.6.7"
  }
 },
 "nbformat": 4,
 "nbformat_minor": 2
}
