{
 "cells": [
  {
   "cell_type": "markdown",
   "metadata": {},
   "source": [
    "# Disaster Response Pipeline Project"
   ]
  },
  {
   "cell_type": "markdown",
   "metadata": {},
   "source": [
    "## Project Overview\n",
    "\n",
    "In this project involves creation of  machine learning pipeline to classify disaster messages. The disaster messages are categoried to be sent to appropriate disaster relief agency.\n",
    "\n",
    "The model built for an API to classify messages includes a web app where emergency worker can input messages and  get the classification outcome of the  messages. Web app also displays the visualization of the categorization of the data. Below we see a snapshot of the graphs displayed in the web app.\n"
   ]
  },
  {
   "cell_type": "markdown",
   "metadata": {},
   "source": [
    "## Installation Requirements\n",
    "\n",
    "\n",
    "    Python 3.5+ \n",
    "    Libraries: NumPy,Pandas, Scikit-learn, re, pickle\n",
    "    Natural Language Process Libraries: NLTK ['punkt', 'wordnet','stopwords','averaged_perceptron_tagger']\n",
    "    SQLlite Database Library: SQLAlchemy\n",
    "    Web App and Data Visualization: Flask, Plotly, Json"
   ]
  },
  {
   "cell_type": "markdown",
   "metadata": {},
   "source": [
    "## Summary of files\n",
    "\n",
    "ETL Pipeline Preparation.ipynb  - Notebook to create ETL pipeline. Steps followed here is used to create database from the datasets in process_data.py, part of the web app.\n",
    "\n",
    "ML Pipeline Preparation.ipynb  - Notebook  to create machine learning pipeline. Incorporate the steps followed here in train_classifier.py to create a database and export a model. \n",
    "\n",
    "Flask Web App - Web app template provided to modify file paths for database and model as needed. Additional data visualizations uses Plotly in the web app. File structure of web app.\n",
    "\n",
    "    - app\n",
    "    | - template\n",
    "    | |- master.html  # main page of web app\n",
    "    | |- go.html  # classification result page of web app\n",
    "    |- run.py  # Flask file that runs app\n",
    "\n",
    "    - data\n",
    "    |- disaster_categories.csv  # data to process \n",
    "    |- disaster_messages.csv  # data to process\n",
    "    |- process_data.py\n",
    "    |- InsertDatabaseName.db   # database to save clean data to\n",
    "\n",
    "    - models\n",
    "    |- train_classifier.py\n",
    "    |- classifier.pkl  # saved model \n",
    "\n",
    "    - README.md"
   ]
  },
  {
   "cell_type": "markdown",
   "metadata": {},
   "source": [
    "## Instructions\n",
    "1. Run the following commands in the project's root directory to set up database and model.\n",
    "\n",
    "    - To run ETL pipeline that cleans data and stores in database\n",
    "        `python data/process_data.py data/disaster_messages.csv data/disaster_categories.csv data/DisasterResponse.db`\n",
    "    - To run ML pipeline that trains classifier and saves\n",
    "        `python models/train_classifier.py data/DisasterResponse.db models/classifier.pkl`\n",
    "\n",
    "2. Run the following command in the app's directory to run your web app.\n",
    "    `python run.py`\n",
    "\n",
    "3. Go to http://0.0.0.0:3001/"
   ]
  },
  {
   "cell_type": "markdown",
   "metadata": {},
   "source": [
    "## Web app Screenshots"
   ]
  },
  {
   "cell_type": "markdown",
   "metadata": {},
   "source": [
    "![Dashboard](dashboard.png)"
   ]
  },
  {
   "cell_type": "markdown",
   "metadata": {},
   "source": [
    "![messageclassification](msgclssfy.png)"
   ]
  },
  {
   "cell_type": "markdown",
   "metadata": {},
   "source": [
    "## Acknowledgements\n",
    "\n",
    "Disaster Response Pipeline Project has been completed as part of Udacity Data Scientist Nanodegre. Data from [Figure Eight](https://www.figure-eight.com/) and code templates have been provided by Udacity."
   ]
  }
 ],
 "metadata": {
  "anaconda-cloud": {},
  "kernelspec": {
   "display_name": "Python [conda env:udacity_ipnd]",
   "language": "python",
   "name": "conda-env-udacity_ipnd-py"
  },
  "language_info": {
   "codemirror_mode": {
    "name": "ipython",
    "version": 3
   },
   "file_extension": ".py",
   "mimetype": "text/x-python",
   "name": "python",
   "nbconvert_exporter": "python",
   "pygments_lexer": "ipython3",
   "version": "3.6.7"
  }
 },
 "nbformat": 4,
 "nbformat_minor": 2
}
